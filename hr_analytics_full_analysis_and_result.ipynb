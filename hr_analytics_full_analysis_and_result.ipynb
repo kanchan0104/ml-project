{
  "metadata": {
    "kernelspec": {
      "language": "python",
      "display_name": "Python 3",
      "name": "python3"
    },
    "language_info": {
      "name": "python",
      "version": "3.7.10",
      "mimetype": "text/x-python",
      "codemirror_mode": {
        "name": "ipython",
        "version": 3
      },
      "pygments_lexer": "ipython3",
      "nbconvert_exporter": "python",
      "file_extension": ".py"
    },
    "colab": {
      "provenance": [],
      "include_colab_link": true
    }
  },
  "nbformat_minor": 0,
  "nbformat": 4,
  "cells": [
    {
      "cell_type": "markdown",
      "metadata": {
        "id": "view-in-github",
        "colab_type": "text"
      },
      "source": [
        "<a href=\"https://colab.research.google.com/github/kanchan0104/ml-project/blob/main/hr_analytics_full_analysis_and_result.ipynb\" target=\"_parent\"><img src=\"https://colab.research.google.com/assets/colab-badge.svg\" alt=\"Open In Colab\"/></a>"
      ]
    },
    {
      "cell_type": "markdown",
      "source": [
        "# **HR ANALYTICS DATASET**"
      ],
      "metadata": {
        "id": "LKMOGRMXZTqb"
      }
    },
    {
      "cell_type": "markdown",
      "source": [
        "# <center> ----- Loading required libraries and datasets ----- </center>"
      ],
      "metadata": {
        "id": "H0cU0QzS9Hy1"
      }
    },
    {
      "cell_type": "code",
      "source": [
        "#Importing the required libraries\n",
        "import pandas as pd\n",
        "import numpy as np\n",
        "import matplotlib.pyplot as plt\n",
        "import seaborn as sns\n",
        "\n",
        "# For splitting \n",
        "from collections import Counter\n",
        "from sklearn.model_selection import train_test_split\n",
        "\n",
        "# For Feature Selection\n",
        "# from mlxtend.feature_selection import SequentialFeatureSelector\n",
        "# from sklearn.feature_selection import RFECV\n",
        "\n",
        "# Modeling & Accuracy Metrics\n",
        "from sklearn.linear_model import LogisticRegression\n",
        "from sklearn.svm import SVC\n",
        "from sklearn.neighbors import KNeighborsClassifier\n",
        "from sklearn.tree import DecisionTreeClassifier\n",
        "from sklearn.ensemble import RandomForestClassifier\n",
        "from xgboost import XGBClassifier\n",
        "from sklearn.metrics import classification_report, confusion_matrix\n",
        "from sklearn.preprocessing import StandardScaler\n",
        "from sklearn.preprocessing import MinMaxScaler\n",
        "\n",
        "# For HyperParameter Tuning\n",
        "from sklearn.model_selection import RandomizedSearchCV\n",
        "\n",
        "import warnings\n",
        "warnings.filterwarnings('ignore')"
      ],
      "metadata": {
        "id": "lM11WAJIpnQ_",
        "execution": {
          "iopub.status.busy": "2023-04-23T16:01:09.071340Z",
          "iopub.execute_input": "2023-04-23T16:01:09.071823Z",
          "iopub.status.idle": "2023-04-23T16:01:10.950406Z",
          "shell.execute_reply.started": "2023-04-23T16:01:09.071784Z",
          "shell.execute_reply": "2023-04-23T16:01:10.948459Z"
        },
        "trusted": true
      },
      "execution_count": null,
      "outputs": []
    },
    {
      "cell_type": "code",
      "source": [
        "#Reading Train data set\n",
        "dftrain = pd.read_csv(\"/content/train.csv\")\n",
        "dftrain.head()"
      ],
      "metadata": {
        "id": "fOqPD3e_pnRB",
        "outputId": "7653fce9-290c-462d-d3ad-1203719e0ac9",
        "execution": {
          "iopub.status.busy": "2023-04-23T16:01:10.955776Z",
          "iopub.execute_input": "2023-04-23T16:01:10.956468Z",
          "iopub.status.idle": "2023-04-23T16:01:11.204121Z",
          "shell.execute_reply.started": "2023-04-23T16:01:10.956411Z",
          "shell.execute_reply": "2023-04-23T16:01:11.203036Z"
        },
        "trusted": true,
        "colab": {
          "base_uri": "https://localhost:8080/",
          "height": 339
        }
      },
      "execution_count": null,
      "outputs": [
        {
          "output_type": "execute_result",
          "data": {
            "text/plain": [
              "   employee_id         department     region         education gender  \\\n",
              "0        65438  Sales & Marketing   region_7  Master's & above      f   \n",
              "1        65141         Operations  region_22        Bachelor's      m   \n",
              "2         7513  Sales & Marketing  region_19        Bachelor's      m   \n",
              "3         2542  Sales & Marketing  region_23        Bachelor's      m   \n",
              "4        48945         Technology  region_26        Bachelor's      m   \n",
              "\n",
              "  recruitment_channel  no_of_trainings  age  previous_year_rating  \\\n",
              "0            sourcing                1   35                   5.0   \n",
              "1               other                1   30                   5.0   \n",
              "2            sourcing                1   34                   3.0   \n",
              "3               other                2   39                   1.0   \n",
              "4               other                1   45                   3.0   \n",
              "\n",
              "   length_of_service  KPIs_met >80%  awards_won?  avg_training_score  \\\n",
              "0                  8              1            0                  49   \n",
              "1                  4              0            0                  60   \n",
              "2                  7              0            0                  50   \n",
              "3                 10              0            0                  50   \n",
              "4                  2              0            0                  73   \n",
              "\n",
              "   is_promoted  \n",
              "0            0  \n",
              "1            0  \n",
              "2            0  \n",
              "3            0  \n",
              "4            0  "
            ],
            "text/html": [
              "\n",
              "  <div id=\"df-7a031ec4-7a4e-4ad0-a804-3d453256f3a6\">\n",
              "    <div class=\"colab-df-container\">\n",
              "      <div>\n",
              "<style scoped>\n",
              "    .dataframe tbody tr th:only-of-type {\n",
              "        vertical-align: middle;\n",
              "    }\n",
              "\n",
              "    .dataframe tbody tr th {\n",
              "        vertical-align: top;\n",
              "    }\n",
              "\n",
              "    .dataframe thead th {\n",
              "        text-align: right;\n",
              "    }\n",
              "</style>\n",
              "<table border=\"1\" class=\"dataframe\">\n",
              "  <thead>\n",
              "    <tr style=\"text-align: right;\">\n",
              "      <th></th>\n",
              "      <th>employee_id</th>\n",
              "      <th>department</th>\n",
              "      <th>region</th>\n",
              "      <th>education</th>\n",
              "      <th>gender</th>\n",
              "      <th>recruitment_channel</th>\n",
              "      <th>no_of_trainings</th>\n",
              "      <th>age</th>\n",
              "      <th>previous_year_rating</th>\n",
              "      <th>length_of_service</th>\n",
              "      <th>KPIs_met &gt;80%</th>\n",
              "      <th>awards_won?</th>\n",
              "      <th>avg_training_score</th>\n",
              "      <th>is_promoted</th>\n",
              "    </tr>\n",
              "  </thead>\n",
              "  <tbody>\n",
              "    <tr>\n",
              "      <th>0</th>\n",
              "      <td>65438</td>\n",
              "      <td>Sales &amp; Marketing</td>\n",
              "      <td>region_7</td>\n",
              "      <td>Master's &amp; above</td>\n",
              "      <td>f</td>\n",
              "      <td>sourcing</td>\n",
              "      <td>1</td>\n",
              "      <td>35</td>\n",
              "      <td>5.0</td>\n",
              "      <td>8</td>\n",
              "      <td>1</td>\n",
              "      <td>0</td>\n",
              "      <td>49</td>\n",
              "      <td>0</td>\n",
              "    </tr>\n",
              "    <tr>\n",
              "      <th>1</th>\n",
              "      <td>65141</td>\n",
              "      <td>Operations</td>\n",
              "      <td>region_22</td>\n",
              "      <td>Bachelor's</td>\n",
              "      <td>m</td>\n",
              "      <td>other</td>\n",
              "      <td>1</td>\n",
              "      <td>30</td>\n",
              "      <td>5.0</td>\n",
              "      <td>4</td>\n",
              "      <td>0</td>\n",
              "      <td>0</td>\n",
              "      <td>60</td>\n",
              "      <td>0</td>\n",
              "    </tr>\n",
              "    <tr>\n",
              "      <th>2</th>\n",
              "      <td>7513</td>\n",
              "      <td>Sales &amp; Marketing</td>\n",
              "      <td>region_19</td>\n",
              "      <td>Bachelor's</td>\n",
              "      <td>m</td>\n",
              "      <td>sourcing</td>\n",
              "      <td>1</td>\n",
              "      <td>34</td>\n",
              "      <td>3.0</td>\n",
              "      <td>7</td>\n",
              "      <td>0</td>\n",
              "      <td>0</td>\n",
              "      <td>50</td>\n",
              "      <td>0</td>\n",
              "    </tr>\n",
              "    <tr>\n",
              "      <th>3</th>\n",
              "      <td>2542</td>\n",
              "      <td>Sales &amp; Marketing</td>\n",
              "      <td>region_23</td>\n",
              "      <td>Bachelor's</td>\n",
              "      <td>m</td>\n",
              "      <td>other</td>\n",
              "      <td>2</td>\n",
              "      <td>39</td>\n",
              "      <td>1.0</td>\n",
              "      <td>10</td>\n",
              "      <td>0</td>\n",
              "      <td>0</td>\n",
              "      <td>50</td>\n",
              "      <td>0</td>\n",
              "    </tr>\n",
              "    <tr>\n",
              "      <th>4</th>\n",
              "      <td>48945</td>\n",
              "      <td>Technology</td>\n",
              "      <td>region_26</td>\n",
              "      <td>Bachelor's</td>\n",
              "      <td>m</td>\n",
              "      <td>other</td>\n",
              "      <td>1</td>\n",
              "      <td>45</td>\n",
              "      <td>3.0</td>\n",
              "      <td>2</td>\n",
              "      <td>0</td>\n",
              "      <td>0</td>\n",
              "      <td>73</td>\n",
              "      <td>0</td>\n",
              "    </tr>\n",
              "  </tbody>\n",
              "</table>\n",
              "</div>\n",
              "      <button class=\"colab-df-convert\" onclick=\"convertToInteractive('df-7a031ec4-7a4e-4ad0-a804-3d453256f3a6')\"\n",
              "              title=\"Convert this dataframe to an interactive table.\"\n",
              "              style=\"display:none;\">\n",
              "        \n",
              "  <svg xmlns=\"http://www.w3.org/2000/svg\" height=\"24px\"viewBox=\"0 0 24 24\"\n",
              "       width=\"24px\">\n",
              "    <path d=\"M0 0h24v24H0V0z\" fill=\"none\"/>\n",
              "    <path d=\"M18.56 5.44l.94 2.06.94-2.06 2.06-.94-2.06-.94-.94-2.06-.94 2.06-2.06.94zm-11 1L8.5 8.5l.94-2.06 2.06-.94-2.06-.94L8.5 2.5l-.94 2.06-2.06.94zm10 10l.94 2.06.94-2.06 2.06-.94-2.06-.94-.94-2.06-.94 2.06-2.06.94z\"/><path d=\"M17.41 7.96l-1.37-1.37c-.4-.4-.92-.59-1.43-.59-.52 0-1.04.2-1.43.59L10.3 9.45l-7.72 7.72c-.78.78-.78 2.05 0 2.83L4 21.41c.39.39.9.59 1.41.59.51 0 1.02-.2 1.41-.59l7.78-7.78 2.81-2.81c.8-.78.8-2.07 0-2.86zM5.41 20L4 18.59l7.72-7.72 1.47 1.35L5.41 20z\"/>\n",
              "  </svg>\n",
              "      </button>\n",
              "      \n",
              "  <style>\n",
              "    .colab-df-container {\n",
              "      display:flex;\n",
              "      flex-wrap:wrap;\n",
              "      gap: 12px;\n",
              "    }\n",
              "\n",
              "    .colab-df-convert {\n",
              "      background-color: #E8F0FE;\n",
              "      border: none;\n",
              "      border-radius: 50%;\n",
              "      cursor: pointer;\n",
              "      display: none;\n",
              "      fill: #1967D2;\n",
              "      height: 32px;\n",
              "      padding: 0 0 0 0;\n",
              "      width: 32px;\n",
              "    }\n",
              "\n",
              "    .colab-df-convert:hover {\n",
              "      background-color: #E2EBFA;\n",
              "      box-shadow: 0px 1px 2px rgba(60, 64, 67, 0.3), 0px 1px 3px 1px rgba(60, 64, 67, 0.15);\n",
              "      fill: #174EA6;\n",
              "    }\n",
              "\n",
              "    [theme=dark] .colab-df-convert {\n",
              "      background-color: #3B4455;\n",
              "      fill: #D2E3FC;\n",
              "    }\n",
              "\n",
              "    [theme=dark] .colab-df-convert:hover {\n",
              "      background-color: #434B5C;\n",
              "      box-shadow: 0px 1px 3px 1px rgba(0, 0, 0, 0.15);\n",
              "      filter: drop-shadow(0px 1px 2px rgba(0, 0, 0, 0.3));\n",
              "      fill: #FFFFFF;\n",
              "    }\n",
              "  </style>\n",
              "\n",
              "      <script>\n",
              "        const buttonEl =\n",
              "          document.querySelector('#df-7a031ec4-7a4e-4ad0-a804-3d453256f3a6 button.colab-df-convert');\n",
              "        buttonEl.style.display =\n",
              "          google.colab.kernel.accessAllowed ? 'block' : 'none';\n",
              "\n",
              "        async function convertToInteractive(key) {\n",
              "          const element = document.querySelector('#df-7a031ec4-7a4e-4ad0-a804-3d453256f3a6');\n",
              "          const dataTable =\n",
              "            await google.colab.kernel.invokeFunction('convertToInteractive',\n",
              "                                                     [key], {});\n",
              "          if (!dataTable) return;\n",
              "\n",
              "          const docLinkHtml = 'Like what you see? Visit the ' +\n",
              "            '<a target=\"_blank\" href=https://colab.research.google.com/notebooks/data_table.ipynb>data table notebook</a>'\n",
              "            + ' to learn more about interactive tables.';\n",
              "          element.innerHTML = '';\n",
              "          dataTable['output_type'] = 'display_data';\n",
              "          await google.colab.output.renderOutput(dataTable, element);\n",
              "          const docLink = document.createElement('div');\n",
              "          docLink.innerHTML = docLinkHtml;\n",
              "          element.appendChild(docLink);\n",
              "        }\n",
              "      </script>\n",
              "    </div>\n",
              "  </div>\n",
              "  "
            ]
          },
          "metadata": {},
          "execution_count": 3
        }
      ]
    },
    {
      "cell_type": "code",
      "source": [
        "#Reading Test data set\n",
        "test=pd.read_csv(\"/content/test.csv\")\n",
        "test.head()"
      ],
      "metadata": {
        "id": "0OelYNUzpnRC",
        "outputId": "81c3662c-90e8-40bf-d2d3-6bfaf8b04997",
        "execution": {
          "iopub.status.busy": "2023-04-23T16:01:11.206552Z",
          "iopub.execute_input": "2023-04-23T16:01:11.207067Z",
          "iopub.status.idle": "2023-04-23T16:01:11.282289Z",
          "shell.execute_reply.started": "2023-04-23T16:01:11.207018Z",
          "shell.execute_reply": "2023-04-23T16:01:11.281094Z"
        },
        "trusted": true,
        "colab": {
          "base_uri": "https://localhost:8080/",
          "height": 305
        }
      },
      "execution_count": null,
      "outputs": [
        {
          "output_type": "execute_result",
          "data": {
            "text/plain": [
              "   employee_id         department     region   education gender  \\\n",
              "0         8724         Technology  region_26  Bachelor's      m   \n",
              "1        74430                 HR   region_4  Bachelor's      f   \n",
              "2        72255  Sales & Marketing  region_13  Bachelor's      m   \n",
              "3        38562        Procurement   region_2  Bachelor's      f   \n",
              "4        64486            Finance  region_29  Bachelor's      m   \n",
              "\n",
              "  recruitment_channel  no_of_trainings  age  previous_year_rating  \\\n",
              "0            sourcing                1   24                   NaN   \n",
              "1               other                1   31                   3.0   \n",
              "2               other                1   31                   1.0   \n",
              "3               other                3   31                   2.0   \n",
              "4            sourcing                1   30                   4.0   \n",
              "\n",
              "   length_of_service  KPIs_met >80%  awards_won?  avg_training_score  \n",
              "0                  1              1            0                  77  \n",
              "1                  5              0            0                  51  \n",
              "2                  4              0            0                  47  \n",
              "3                  9              0            0                  65  \n",
              "4                  7              0            0                  61  "
            ],
            "text/html": [
              "\n",
              "  <div id=\"df-6e653bf6-4064-4d41-a0ac-cecd3c238966\">\n",
              "    <div class=\"colab-df-container\">\n",
              "      <div>\n",
              "<style scoped>\n",
              "    .dataframe tbody tr th:only-of-type {\n",
              "        vertical-align: middle;\n",
              "    }\n",
              "\n",
              "    .dataframe tbody tr th {\n",
              "        vertical-align: top;\n",
              "    }\n",
              "\n",
              "    .dataframe thead th {\n",
              "        text-align: right;\n",
              "    }\n",
              "</style>\n",
              "<table border=\"1\" class=\"dataframe\">\n",
              "  <thead>\n",
              "    <tr style=\"text-align: right;\">\n",
              "      <th></th>\n",
              "      <th>employee_id</th>\n",
              "      <th>department</th>\n",
              "      <th>region</th>\n",
              "      <th>education</th>\n",
              "      <th>gender</th>\n",
              "      <th>recruitment_channel</th>\n",
              "      <th>no_of_trainings</th>\n",
              "      <th>age</th>\n",
              "      <th>previous_year_rating</th>\n",
              "      <th>length_of_service</th>\n",
              "      <th>KPIs_met &gt;80%</th>\n",
              "      <th>awards_won?</th>\n",
              "      <th>avg_training_score</th>\n",
              "    </tr>\n",
              "  </thead>\n",
              "  <tbody>\n",
              "    <tr>\n",
              "      <th>0</th>\n",
              "      <td>8724</td>\n",
              "      <td>Technology</td>\n",
              "      <td>region_26</td>\n",
              "      <td>Bachelor's</td>\n",
              "      <td>m</td>\n",
              "      <td>sourcing</td>\n",
              "      <td>1</td>\n",
              "      <td>24</td>\n",
              "      <td>NaN</td>\n",
              "      <td>1</td>\n",
              "      <td>1</td>\n",
              "      <td>0</td>\n",
              "      <td>77</td>\n",
              "    </tr>\n",
              "    <tr>\n",
              "      <th>1</th>\n",
              "      <td>74430</td>\n",
              "      <td>HR</td>\n",
              "      <td>region_4</td>\n",
              "      <td>Bachelor's</td>\n",
              "      <td>f</td>\n",
              "      <td>other</td>\n",
              "      <td>1</td>\n",
              "      <td>31</td>\n",
              "      <td>3.0</td>\n",
              "      <td>5</td>\n",
              "      <td>0</td>\n",
              "      <td>0</td>\n",
              "      <td>51</td>\n",
              "    </tr>\n",
              "    <tr>\n",
              "      <th>2</th>\n",
              "      <td>72255</td>\n",
              "      <td>Sales &amp; Marketing</td>\n",
              "      <td>region_13</td>\n",
              "      <td>Bachelor's</td>\n",
              "      <td>m</td>\n",
              "      <td>other</td>\n",
              "      <td>1</td>\n",
              "      <td>31</td>\n",
              "      <td>1.0</td>\n",
              "      <td>4</td>\n",
              "      <td>0</td>\n",
              "      <td>0</td>\n",
              "      <td>47</td>\n",
              "    </tr>\n",
              "    <tr>\n",
              "      <th>3</th>\n",
              "      <td>38562</td>\n",
              "      <td>Procurement</td>\n",
              "      <td>region_2</td>\n",
              "      <td>Bachelor's</td>\n",
              "      <td>f</td>\n",
              "      <td>other</td>\n",
              "      <td>3</td>\n",
              "      <td>31</td>\n",
              "      <td>2.0</td>\n",
              "      <td>9</td>\n",
              "      <td>0</td>\n",
              "      <td>0</td>\n",
              "      <td>65</td>\n",
              "    </tr>\n",
              "    <tr>\n",
              "      <th>4</th>\n",
              "      <td>64486</td>\n",
              "      <td>Finance</td>\n",
              "      <td>region_29</td>\n",
              "      <td>Bachelor's</td>\n",
              "      <td>m</td>\n",
              "      <td>sourcing</td>\n",
              "      <td>1</td>\n",
              "      <td>30</td>\n",
              "      <td>4.0</td>\n",
              "      <td>7</td>\n",
              "      <td>0</td>\n",
              "      <td>0</td>\n",
              "      <td>61</td>\n",
              "    </tr>\n",
              "  </tbody>\n",
              "</table>\n",
              "</div>\n",
              "      <button class=\"colab-df-convert\" onclick=\"convertToInteractive('df-6e653bf6-4064-4d41-a0ac-cecd3c238966')\"\n",
              "              title=\"Convert this dataframe to an interactive table.\"\n",
              "              style=\"display:none;\">\n",
              "        \n",
              "  <svg xmlns=\"http://www.w3.org/2000/svg\" height=\"24px\"viewBox=\"0 0 24 24\"\n",
              "       width=\"24px\">\n",
              "    <path d=\"M0 0h24v24H0V0z\" fill=\"none\"/>\n",
              "    <path d=\"M18.56 5.44l.94 2.06.94-2.06 2.06-.94-2.06-.94-.94-2.06-.94 2.06-2.06.94zm-11 1L8.5 8.5l.94-2.06 2.06-.94-2.06-.94L8.5 2.5l-.94 2.06-2.06.94zm10 10l.94 2.06.94-2.06 2.06-.94-2.06-.94-.94-2.06-.94 2.06-2.06.94z\"/><path d=\"M17.41 7.96l-1.37-1.37c-.4-.4-.92-.59-1.43-.59-.52 0-1.04.2-1.43.59L10.3 9.45l-7.72 7.72c-.78.78-.78 2.05 0 2.83L4 21.41c.39.39.9.59 1.41.59.51 0 1.02-.2 1.41-.59l7.78-7.78 2.81-2.81c.8-.78.8-2.07 0-2.86zM5.41 20L4 18.59l7.72-7.72 1.47 1.35L5.41 20z\"/>\n",
              "  </svg>\n",
              "      </button>\n",
              "      \n",
              "  <style>\n",
              "    .colab-df-container {\n",
              "      display:flex;\n",
              "      flex-wrap:wrap;\n",
              "      gap: 12px;\n",
              "    }\n",
              "\n",
              "    .colab-df-convert {\n",
              "      background-color: #E8F0FE;\n",
              "      border: none;\n",
              "      border-radius: 50%;\n",
              "      cursor: pointer;\n",
              "      display: none;\n",
              "      fill: #1967D2;\n",
              "      height: 32px;\n",
              "      padding: 0 0 0 0;\n",
              "      width: 32px;\n",
              "    }\n",
              "\n",
              "    .colab-df-convert:hover {\n",
              "      background-color: #E2EBFA;\n",
              "      box-shadow: 0px 1px 2px rgba(60, 64, 67, 0.3), 0px 1px 3px 1px rgba(60, 64, 67, 0.15);\n",
              "      fill: #174EA6;\n",
              "    }\n",
              "\n",
              "    [theme=dark] .colab-df-convert {\n",
              "      background-color: #3B4455;\n",
              "      fill: #D2E3FC;\n",
              "    }\n",
              "\n",
              "    [theme=dark] .colab-df-convert:hover {\n",
              "      background-color: #434B5C;\n",
              "      box-shadow: 0px 1px 3px 1px rgba(0, 0, 0, 0.15);\n",
              "      filter: drop-shadow(0px 1px 2px rgba(0, 0, 0, 0.3));\n",
              "      fill: #FFFFFF;\n",
              "    }\n",
              "  </style>\n",
              "\n",
              "      <script>\n",
              "        const buttonEl =\n",
              "          document.querySelector('#df-6e653bf6-4064-4d41-a0ac-cecd3c238966 button.colab-df-convert');\n",
              "        buttonEl.style.display =\n",
              "          google.colab.kernel.accessAllowed ? 'block' : 'none';\n",
              "\n",
              "        async function convertToInteractive(key) {\n",
              "          const element = document.querySelector('#df-6e653bf6-4064-4d41-a0ac-cecd3c238966');\n",
              "          const dataTable =\n",
              "            await google.colab.kernel.invokeFunction('convertToInteractive',\n",
              "                                                     [key], {});\n",
              "          if (!dataTable) return;\n",
              "\n",
              "          const docLinkHtml = 'Like what you see? Visit the ' +\n",
              "            '<a target=\"_blank\" href=https://colab.research.google.com/notebooks/data_table.ipynb>data table notebook</a>'\n",
              "            + ' to learn more about interactive tables.';\n",
              "          element.innerHTML = '';\n",
              "          dataTable['output_type'] = 'display_data';\n",
              "          await google.colab.output.renderOutput(dataTable, element);\n",
              "          const docLink = document.createElement('div');\n",
              "          docLink.innerHTML = docLinkHtml;\n",
              "          element.appendChild(docLink);\n",
              "        }\n",
              "      </script>\n",
              "    </div>\n",
              "  </div>\n",
              "  "
            ]
          },
          "metadata": {},
          "execution_count": 4
        }
      ]
    },
    {
      "cell_type": "code",
      "source": [
        "#Shapes of both the data sets\n",
        "print(\"Original Train Set Shape : \",dftrain.shape)\n",
        "print(\"Test Set Shape :  \",test.shape)"
      ],
      "metadata": {
        "id": "RrisJE3lpnRD",
        "outputId": "ffa5d047-d2fa-428a-b499-d0f23e93ca68",
        "execution": {
          "iopub.status.busy": "2023-04-23T16:01:11.284298Z",
          "iopub.execute_input": "2023-04-23T16:01:11.284741Z",
          "iopub.status.idle": "2023-04-23T16:01:11.291307Z",
          "shell.execute_reply.started": "2023-04-23T16:01:11.284694Z",
          "shell.execute_reply": "2023-04-23T16:01:11.290186Z"
        },
        "trusted": true,
        "colab": {
          "base_uri": "https://localhost:8080/"
        }
      },
      "execution_count": null,
      "outputs": [
        {
          "output_type": "stream",
          "name": "stdout",
          "text": [
            "Original Train Set Shape :  (54808, 14)\n",
            "Test Set Shape :   (23490, 13)\n"
          ]
        }
      ]
    },
    {
      "cell_type": "markdown",
      "source": [
        "\n",
        "# <center> ----- PREPROCESSING ----- </center>"
      ],
      "metadata": {
        "id": "TWhQHBNapnRE"
      }
    },
    {
      "cell_type": "markdown",
      "source": [
        "***1. Preprocessing lets us to clean data and remove any inconsistencies like null value, duplicate values etc to make further model bulding process hassle free***"
      ],
      "metadata": {
        "id": "nLh8r4aW9Hy8"
      }
    },
    {
      "cell_type": "code",
      "source": [
        "dftrain.describe()"
      ],
      "metadata": {
        "id": "j3BS-yH0pnRE",
        "outputId": "ab08bbba-a0d8-4453-d3c9-ecc2280356ca",
        "execution": {
          "iopub.status.busy": "2023-04-23T16:01:11.292777Z",
          "iopub.execute_input": "2023-04-23T16:01:11.293087Z",
          "iopub.status.idle": "2023-04-23T16:01:11.368267Z",
          "shell.execute_reply.started": "2023-04-23T16:01:11.293057Z",
          "shell.execute_reply": "2023-04-23T16:01:11.367038Z"
        },
        "trusted": true,
        "colab": {
          "base_uri": "https://localhost:8080/",
          "height": 381
        }
      },
      "execution_count": null,
      "outputs": [
        {
          "output_type": "execute_result",
          "data": {
            "text/plain": [
              "        employee_id  no_of_trainings           age  previous_year_rating  \\\n",
              "count  54808.000000     54808.000000  54808.000000          50684.000000   \n",
              "mean   39195.830627         1.253011     34.803915              3.329256   \n",
              "std    22586.581449         0.609264      7.660169              1.259993   \n",
              "min        1.000000         1.000000     20.000000              1.000000   \n",
              "25%    19669.750000         1.000000     29.000000              3.000000   \n",
              "50%    39225.500000         1.000000     33.000000              3.000000   \n",
              "75%    58730.500000         1.000000     39.000000              4.000000   \n",
              "max    78298.000000        10.000000     60.000000              5.000000   \n",
              "\n",
              "       length_of_service  KPIs_met >80%   awards_won?  avg_training_score  \\\n",
              "count       54808.000000   54808.000000  54808.000000        54808.000000   \n",
              "mean            5.865512       0.351974      0.023172           63.386750   \n",
              "std             4.265094       0.477590      0.150450           13.371559   \n",
              "min             1.000000       0.000000      0.000000           39.000000   \n",
              "25%             3.000000       0.000000      0.000000           51.000000   \n",
              "50%             5.000000       0.000000      0.000000           60.000000   \n",
              "75%             7.000000       1.000000      0.000000           76.000000   \n",
              "max            37.000000       1.000000      1.000000           99.000000   \n",
              "\n",
              "        is_promoted  \n",
              "count  54808.000000  \n",
              "mean       0.085170  \n",
              "std        0.279137  \n",
              "min        0.000000  \n",
              "25%        0.000000  \n",
              "50%        0.000000  \n",
              "75%        0.000000  \n",
              "max        1.000000  "
            ],
            "text/html": [
              "\n",
              "  <div id=\"df-cdd7895f-e0b8-4828-beb7-2a8062fd8d75\">\n",
              "    <div class=\"colab-df-container\">\n",
              "      <div>\n",
              "<style scoped>\n",
              "    .dataframe tbody tr th:only-of-type {\n",
              "        vertical-align: middle;\n",
              "    }\n",
              "\n",
              "    .dataframe tbody tr th {\n",
              "        vertical-align: top;\n",
              "    }\n",
              "\n",
              "    .dataframe thead th {\n",
              "        text-align: right;\n",
              "    }\n",
              "</style>\n",
              "<table border=\"1\" class=\"dataframe\">\n",
              "  <thead>\n",
              "    <tr style=\"text-align: right;\">\n",
              "      <th></th>\n",
              "      <th>employee_id</th>\n",
              "      <th>no_of_trainings</th>\n",
              "      <th>age</th>\n",
              "      <th>previous_year_rating</th>\n",
              "      <th>length_of_service</th>\n",
              "      <th>KPIs_met &gt;80%</th>\n",
              "      <th>awards_won?</th>\n",
              "      <th>avg_training_score</th>\n",
              "      <th>is_promoted</th>\n",
              "    </tr>\n",
              "  </thead>\n",
              "  <tbody>\n",
              "    <tr>\n",
              "      <th>count</th>\n",
              "      <td>54808.000000</td>\n",
              "      <td>54808.000000</td>\n",
              "      <td>54808.000000</td>\n",
              "      <td>50684.000000</td>\n",
              "      <td>54808.000000</td>\n",
              "      <td>54808.000000</td>\n",
              "      <td>54808.000000</td>\n",
              "      <td>54808.000000</td>\n",
              "      <td>54808.000000</td>\n",
              "    </tr>\n",
              "    <tr>\n",
              "      <th>mean</th>\n",
              "      <td>39195.830627</td>\n",
              "      <td>1.253011</td>\n",
              "      <td>34.803915</td>\n",
              "      <td>3.329256</td>\n",
              "      <td>5.865512</td>\n",
              "      <td>0.351974</td>\n",
              "      <td>0.023172</td>\n",
              "      <td>63.386750</td>\n",
              "      <td>0.085170</td>\n",
              "    </tr>\n",
              "    <tr>\n",
              "      <th>std</th>\n",
              "      <td>22586.581449</td>\n",
              "      <td>0.609264</td>\n",
              "      <td>7.660169</td>\n",
              "      <td>1.259993</td>\n",
              "      <td>4.265094</td>\n",
              "      <td>0.477590</td>\n",
              "      <td>0.150450</td>\n",
              "      <td>13.371559</td>\n",
              "      <td>0.279137</td>\n",
              "    </tr>\n",
              "    <tr>\n",
              "      <th>min</th>\n",
              "      <td>1.000000</td>\n",
              "      <td>1.000000</td>\n",
              "      <td>20.000000</td>\n",
              "      <td>1.000000</td>\n",
              "      <td>1.000000</td>\n",
              "      <td>0.000000</td>\n",
              "      <td>0.000000</td>\n",
              "      <td>39.000000</td>\n",
              "      <td>0.000000</td>\n",
              "    </tr>\n",
              "    <tr>\n",
              "      <th>25%</th>\n",
              "      <td>19669.750000</td>\n",
              "      <td>1.000000</td>\n",
              "      <td>29.000000</td>\n",
              "      <td>3.000000</td>\n",
              "      <td>3.000000</td>\n",
              "      <td>0.000000</td>\n",
              "      <td>0.000000</td>\n",
              "      <td>51.000000</td>\n",
              "      <td>0.000000</td>\n",
              "    </tr>\n",
              "    <tr>\n",
              "      <th>50%</th>\n",
              "      <td>39225.500000</td>\n",
              "      <td>1.000000</td>\n",
              "      <td>33.000000</td>\n",
              "      <td>3.000000</td>\n",
              "      <td>5.000000</td>\n",
              "      <td>0.000000</td>\n",
              "      <td>0.000000</td>\n",
              "      <td>60.000000</td>\n",
              "      <td>0.000000</td>\n",
              "    </tr>\n",
              "    <tr>\n",
              "      <th>75%</th>\n",
              "      <td>58730.500000</td>\n",
              "      <td>1.000000</td>\n",
              "      <td>39.000000</td>\n",
              "      <td>4.000000</td>\n",
              "      <td>7.000000</td>\n",
              "      <td>1.000000</td>\n",
              "      <td>0.000000</td>\n",
              "      <td>76.000000</td>\n",
              "      <td>0.000000</td>\n",
              "    </tr>\n",
              "    <tr>\n",
              "      <th>max</th>\n",
              "      <td>78298.000000</td>\n",
              "      <td>10.000000</td>\n",
              "      <td>60.000000</td>\n",
              "      <td>5.000000</td>\n",
              "      <td>37.000000</td>\n",
              "      <td>1.000000</td>\n",
              "      <td>1.000000</td>\n",
              "      <td>99.000000</td>\n",
              "      <td>1.000000</td>\n",
              "    </tr>\n",
              "  </tbody>\n",
              "</table>\n",
              "</div>\n",
              "      <button class=\"colab-df-convert\" onclick=\"convertToInteractive('df-cdd7895f-e0b8-4828-beb7-2a8062fd8d75')\"\n",
              "              title=\"Convert this dataframe to an interactive table.\"\n",
              "              style=\"display:none;\">\n",
              "        \n",
              "  <svg xmlns=\"http://www.w3.org/2000/svg\" height=\"24px\"viewBox=\"0 0 24 24\"\n",
              "       width=\"24px\">\n",
              "    <path d=\"M0 0h24v24H0V0z\" fill=\"none\"/>\n",
              "    <path d=\"M18.56 5.44l.94 2.06.94-2.06 2.06-.94-2.06-.94-.94-2.06-.94 2.06-2.06.94zm-11 1L8.5 8.5l.94-2.06 2.06-.94-2.06-.94L8.5 2.5l-.94 2.06-2.06.94zm10 10l.94 2.06.94-2.06 2.06-.94-2.06-.94-.94-2.06-.94 2.06-2.06.94z\"/><path d=\"M17.41 7.96l-1.37-1.37c-.4-.4-.92-.59-1.43-.59-.52 0-1.04.2-1.43.59L10.3 9.45l-7.72 7.72c-.78.78-.78 2.05 0 2.83L4 21.41c.39.39.9.59 1.41.59.51 0 1.02-.2 1.41-.59l7.78-7.78 2.81-2.81c.8-.78.8-2.07 0-2.86zM5.41 20L4 18.59l7.72-7.72 1.47 1.35L5.41 20z\"/>\n",
              "  </svg>\n",
              "      </button>\n",
              "      \n",
              "  <style>\n",
              "    .colab-df-container {\n",
              "      display:flex;\n",
              "      flex-wrap:wrap;\n",
              "      gap: 12px;\n",
              "    }\n",
              "\n",
              "    .colab-df-convert {\n",
              "      background-color: #E8F0FE;\n",
              "      border: none;\n",
              "      border-radius: 50%;\n",
              "      cursor: pointer;\n",
              "      display: none;\n",
              "      fill: #1967D2;\n",
              "      height: 32px;\n",
              "      padding: 0 0 0 0;\n",
              "      width: 32px;\n",
              "    }\n",
              "\n",
              "    .colab-df-convert:hover {\n",
              "      background-color: #E2EBFA;\n",
              "      box-shadow: 0px 1px 2px rgba(60, 64, 67, 0.3), 0px 1px 3px 1px rgba(60, 64, 67, 0.15);\n",
              "      fill: #174EA6;\n",
              "    }\n",
              "\n",
              "    [theme=dark] .colab-df-convert {\n",
              "      background-color: #3B4455;\n",
              "      fill: #D2E3FC;\n",
              "    }\n",
              "\n",
              "    [theme=dark] .colab-df-convert:hover {\n",
              "      background-color: #434B5C;\n",
              "      box-shadow: 0px 1px 3px 1px rgba(0, 0, 0, 0.15);\n",
              "      filter: drop-shadow(0px 1px 2px rgba(0, 0, 0, 0.3));\n",
              "      fill: #FFFFFF;\n",
              "    }\n",
              "  </style>\n",
              "\n",
              "      <script>\n",
              "        const buttonEl =\n",
              "          document.querySelector('#df-cdd7895f-e0b8-4828-beb7-2a8062fd8d75 button.colab-df-convert');\n",
              "        buttonEl.style.display =\n",
              "          google.colab.kernel.accessAllowed ? 'block' : 'none';\n",
              "\n",
              "        async function convertToInteractive(key) {\n",
              "          const element = document.querySelector('#df-cdd7895f-e0b8-4828-beb7-2a8062fd8d75');\n",
              "          const dataTable =\n",
              "            await google.colab.kernel.invokeFunction('convertToInteractive',\n",
              "                                                     [key], {});\n",
              "          if (!dataTable) return;\n",
              "\n",
              "          const docLinkHtml = 'Like what you see? Visit the ' +\n",
              "            '<a target=\"_blank\" href=https://colab.research.google.com/notebooks/data_table.ipynb>data table notebook</a>'\n",
              "            + ' to learn more about interactive tables.';\n",
              "          element.innerHTML = '';\n",
              "          dataTable['output_type'] = 'display_data';\n",
              "          await google.colab.output.renderOutput(dataTable, element);\n",
              "          const docLink = document.createElement('div');\n",
              "          docLink.innerHTML = docLinkHtml;\n",
              "          element.appendChild(docLink);\n",
              "        }\n",
              "      </script>\n",
              "    </div>\n",
              "  </div>\n",
              "  "
            ]
          },
          "metadata": {},
          "execution_count": 6
        }
      ]
    },
    {
      "cell_type": "markdown",
      "source": [
        "***This shows a summary of numerical columns***"
      ],
      "metadata": {
        "id": "r4QT7wBFpnRF"
      }
    },
    {
      "cell_type": "code",
      "source": [
        "#checking for duplicate rows\n",
        "dupl=dftrain[dftrain.duplicated()]\n",
        "dupl.shape"
      ],
      "metadata": {
        "execution": {
          "iopub.status.busy": "2023-04-23T16:01:11.369762Z",
          "iopub.execute_input": "2023-04-23T16:01:11.370108Z",
          "iopub.status.idle": "2023-04-23T16:01:11.433502Z",
          "shell.execute_reply.started": "2023-04-23T16:01:11.370072Z",
          "shell.execute_reply": "2023-04-23T16:01:11.432444Z"
        },
        "trusted": true,
        "id": "NKZqJOWj9Hy-",
        "outputId": "642b276b-a597-455d-d116-ea64997d1e6a",
        "colab": {
          "base_uri": "https://localhost:8080/"
        }
      },
      "execution_count": null,
      "outputs": [
        {
          "output_type": "execute_result",
          "data": {
            "text/plain": [
              "(0, 14)"
            ]
          },
          "metadata": {},
          "execution_count": 7
        }
      ]
    },
    {
      "cell_type": "markdown",
      "source": [
        "***There are no duplicate rows in the dataframe***"
      ],
      "metadata": {
        "id": "KagblQmZ9Hy_"
      }
    },
    {
      "cell_type": "code",
      "source": [
        "#Data types of features\n",
        "dftrain.dtypes"
      ],
      "metadata": {
        "id": "nT4DIz2PpnRF",
        "outputId": "9b99d92e-3354-4dab-8e72-db36da4d0943",
        "execution": {
          "iopub.status.busy": "2023-04-23T16:01:11.435014Z",
          "iopub.execute_input": "2023-04-23T16:01:11.435631Z",
          "iopub.status.idle": "2023-04-23T16:01:11.444915Z",
          "shell.execute_reply.started": "2023-04-23T16:01:11.435587Z",
          "shell.execute_reply": "2023-04-23T16:01:11.443954Z"
        },
        "trusted": true,
        "colab": {
          "base_uri": "https://localhost:8080/"
        }
      },
      "execution_count": null,
      "outputs": [
        {
          "output_type": "execute_result",
          "data": {
            "text/plain": [
              "employee_id               int64\n",
              "department               object\n",
              "region                   object\n",
              "education                object\n",
              "gender                   object\n",
              "recruitment_channel      object\n",
              "no_of_trainings           int64\n",
              "age                       int64\n",
              "previous_year_rating    float64\n",
              "length_of_service         int64\n",
              "KPIs_met >80%             int64\n",
              "awards_won?               int64\n",
              "avg_training_score        int64\n",
              "is_promoted               int64\n",
              "dtype: object"
            ]
          },
          "metadata": {},
          "execution_count": 8
        }
      ]
    },
    {
      "cell_type": "markdown",
      "source": [
        "**TOTAL FEATURES - 14<br>\n",
        "    Categorical Features - 5<br>\n",
        "    Numerical Featues - 9<br>**"
      ],
      "metadata": {
        "id": "MLNzTPrP9Hy_"
      }
    },
    {
      "cell_type": "code",
      "source": [
        "#Unique values summary of total data set\n",
        "dftrain.nunique()"
      ],
      "metadata": {
        "id": "T9MBsAZspnRG",
        "outputId": "9cce48ad-d2d0-4e4c-f68a-ecbbbeaf046f",
        "execution": {
          "iopub.status.busy": "2023-04-23T16:01:11.446192Z",
          "iopub.execute_input": "2023-04-23T16:01:11.446810Z",
          "iopub.status.idle": "2023-04-23T16:01:11.512760Z",
          "shell.execute_reply.started": "2023-04-23T16:01:11.446764Z",
          "shell.execute_reply": "2023-04-23T16:01:11.511487Z"
        },
        "trusted": true,
        "colab": {
          "base_uri": "https://localhost:8080/"
        }
      },
      "execution_count": null,
      "outputs": [
        {
          "output_type": "execute_result",
          "data": {
            "text/plain": [
              "employee_id             54808\n",
              "department                  9\n",
              "region                     34\n",
              "education                   3\n",
              "gender                      2\n",
              "recruitment_channel         3\n",
              "no_of_trainings            10\n",
              "age                        41\n",
              "previous_year_rating        5\n",
              "length_of_service          35\n",
              "KPIs_met >80%               2\n",
              "awards_won?                 2\n",
              "avg_training_score         61\n",
              "is_promoted                 2\n",
              "dtype: int64"
            ]
          },
          "metadata": {},
          "execution_count": 9
        }
      ]
    },
    {
      "cell_type": "markdown",
      "source": [
        "***None of the columns have unique value =1 ; this means there are no constant columns***"
      ],
      "metadata": {
        "id": "qybExLr29HzA"
      }
    },
    {
      "cell_type": "code",
      "source": [
        "#Null values summary of total data set\n",
        "dftrain.isnull().sum()"
      ],
      "metadata": {
        "id": "uEIojydQpnRH",
        "outputId": "b1e9ff1c-bac5-4e4e-e596-c0482c67665e",
        "execution": {
          "iopub.status.busy": "2023-04-23T16:01:11.517239Z",
          "iopub.execute_input": "2023-04-23T16:01:11.517667Z",
          "iopub.status.idle": "2023-04-23T16:01:11.540717Z",
          "shell.execute_reply.started": "2023-04-23T16:01:11.517631Z",
          "shell.execute_reply": "2023-04-23T16:01:11.539265Z"
        },
        "trusted": true,
        "colab": {
          "base_uri": "https://localhost:8080/"
        }
      },
      "execution_count": null,
      "outputs": [
        {
          "output_type": "execute_result",
          "data": {
            "text/plain": [
              "employee_id                0\n",
              "department                 0\n",
              "region                     0\n",
              "education               2409\n",
              "gender                     0\n",
              "recruitment_channel        0\n",
              "no_of_trainings            0\n",
              "age                        0\n",
              "previous_year_rating    4124\n",
              "length_of_service          0\n",
              "KPIs_met >80%              0\n",
              "awards_won?                0\n",
              "avg_training_score         0\n",
              "is_promoted                0\n",
              "dtype: int64"
            ]
          },
          "metadata": {},
          "execution_count": 10
        }
      ]
    },
    {
      "cell_type": "markdown",
      "source": [
        "   ***i) Since 'education' is a categorical feature here and it also signifies whether the person has obtained a particular level of education or not, we cannot impute the null values as we can't assign an education level to a person on our own. The person may or may not have achieved the assigned level and this will result in an inaccurate analysis***"
      ],
      "metadata": {
        "id": "a3k35CnjpnRI"
      }
    },
    {
      "cell_type": "markdown",
      "source": [
        "***ii) On the other hand, 'previous_year_rating' is a numerical feature and it signifies the rating of the employee in the previous year. The NULL value in this column indicates that the employee has been a part of the company for LESS THAN 1 YEAR and does not have a previous year score. Hence we can inmpute these null values with 0*** "
      ],
      "metadata": {
        "id": "c9QhEr3apnRI"
      }
    },
    {
      "cell_type": "code",
      "source": [
        "dftrain['previous_year_rating'].fillna(0,inplace=True)\n",
        "dftrain['previous_year_rating'].isnull().sum()"
      ],
      "metadata": {
        "id": "Dm27tBcTpnRJ",
        "outputId": "351aadcf-fa5c-4288-eef1-537e1f17fe34",
        "execution": {
          "iopub.status.busy": "2023-04-23T16:01:11.543306Z",
          "iopub.execute_input": "2023-04-23T16:01:11.543804Z",
          "iopub.status.idle": "2023-04-23T16:01:11.552935Z",
          "shell.execute_reply.started": "2023-04-23T16:01:11.543752Z",
          "shell.execute_reply": "2023-04-23T16:01:11.551824Z"
        },
        "trusted": true,
        "colab": {
          "base_uri": "https://localhost:8080/"
        }
      },
      "execution_count": null,
      "outputs": [
        {
          "output_type": "execute_result",
          "data": {
            "text/plain": [
              "0"
            ]
          },
          "metadata": {},
          "execution_count": 11
        }
      ]
    },
    {
      "cell_type": "markdown",
      "source": [
        "***No null value remaining in 'previous_year_rating'***"
      ],
      "metadata": {
        "id": "QuM07UpCpnRK"
      }
    },
    {
      "cell_type": "code",
      "source": [
        "dftrain[dftrain['is_promoted']==1].shape"
      ],
      "metadata": {
        "id": "_DZpUs5SpnRL",
        "outputId": "b58a9bd6-79f6-4848-ecb2-1a48745588e4",
        "execution": {
          "iopub.status.busy": "2023-04-23T16:01:11.554056Z",
          "iopub.execute_input": "2023-04-23T16:01:11.554345Z",
          "iopub.status.idle": "2023-04-23T16:01:11.589570Z",
          "shell.execute_reply.started": "2023-04-23T16:01:11.554317Z",
          "shell.execute_reply": "2023-04-23T16:01:11.588399Z"
        },
        "trusted": true,
        "colab": {
          "base_uri": "https://localhost:8080/"
        }
      },
      "execution_count": null,
      "outputs": [
        {
          "output_type": "execute_result",
          "data": {
            "text/plain": [
              "(4668, 14)"
            ]
          },
          "metadata": {},
          "execution_count": 12
        }
      ]
    },
    {
      "cell_type": "markdown",
      "source": [
        "***There are 4668 records where the value of target variable i.e, 'is_promoted' is 1.***"
      ],
      "metadata": {
        "id": "Zqq2cLs7pnRL"
      }
    },
    {
      "cell_type": "code",
      "source": [
        "dftrain[dftrain.education.isnull()].is_promoted.sum()"
      ],
      "metadata": {
        "id": "BqYNwT40pnRM",
        "outputId": "314bca05-9fbb-436e-ccb1-1644e059eb5e",
        "execution": {
          "iopub.status.busy": "2023-04-23T16:01:11.590890Z",
          "iopub.execute_input": "2023-04-23T16:01:11.591220Z",
          "iopub.status.idle": "2023-04-23T16:01:11.603412Z",
          "shell.execute_reply.started": "2023-04-23T16:01:11.591186Z",
          "shell.execute_reply": "2023-04-23T16:01:11.602238Z"
        },
        "trusted": true,
        "colab": {
          "base_uri": "https://localhost:8080/"
        }
      },
      "execution_count": null,
      "outputs": [
        {
          "output_type": "execute_result",
          "data": {
            "text/plain": [
              "122"
            ]
          },
          "metadata": {},
          "execution_count": 13
        }
      ]
    },
    {
      "cell_type": "markdown",
      "source": [
        "***Since out of 54808 records in the train set, 2409 records(4.39% of 54808) have NULL in education and out of those 2409 records, 122 records(2.6% of 4668) have 'is_promoted' value as 1. So we can drop these records as they won't bring a significant change in our predictions in the future.***"
      ],
      "metadata": {
        "id": "ZzSKwXiNpnRM"
      }
    },
    {
      "cell_type": "code",
      "source": [
        "#Dropping records with education=NULL\n",
        "dftrain=dftrain.dropna()\n",
        "dftrain.shape #2409 records dropped"
      ],
      "metadata": {
        "id": "YLL4ycTQpnRN",
        "outputId": "a5a8ccf6-52d1-4df7-a70d-897b12a09a98",
        "execution": {
          "iopub.status.busy": "2023-04-23T16:01:11.605008Z",
          "iopub.execute_input": "2023-04-23T16:01:11.605651Z",
          "iopub.status.idle": "2023-04-23T16:01:11.641117Z",
          "shell.execute_reply.started": "2023-04-23T16:01:11.605601Z",
          "shell.execute_reply": "2023-04-23T16:01:11.639929Z"
        },
        "trusted": true,
        "colab": {
          "base_uri": "https://localhost:8080/"
        }
      },
      "execution_count": null,
      "outputs": [
        {
          "output_type": "execute_result",
          "data": {
            "text/plain": [
              "(52399, 14)"
            ]
          },
          "metadata": {},
          "execution_count": 14
        }
      ]
    },
    {
      "cell_type": "code",
      "source": [
        "dftrain.isnull().sum()"
      ],
      "metadata": {
        "id": "dKg92X_kpnRO",
        "outputId": "08c5cbbb-3871-4b44-8d26-2a7172c56e80",
        "execution": {
          "iopub.status.busy": "2023-04-23T16:01:11.642605Z",
          "iopub.execute_input": "2023-04-23T16:01:11.643220Z",
          "iopub.status.idle": "2023-04-23T16:01:11.664929Z",
          "shell.execute_reply.started": "2023-04-23T16:01:11.643172Z",
          "shell.execute_reply": "2023-04-23T16:01:11.663767Z"
        },
        "trusted": true,
        "colab": {
          "base_uri": "https://localhost:8080/"
        }
      },
      "execution_count": null,
      "outputs": [
        {
          "output_type": "execute_result",
          "data": {
            "text/plain": [
              "employee_id             0\n",
              "department              0\n",
              "region                  0\n",
              "education               0\n",
              "gender                  0\n",
              "recruitment_channel     0\n",
              "no_of_trainings         0\n",
              "age                     0\n",
              "previous_year_rating    0\n",
              "length_of_service       0\n",
              "KPIs_met >80%           0\n",
              "awards_won?             0\n",
              "avg_training_score      0\n",
              "is_promoted             0\n",
              "dtype: int64"
            ]
          },
          "metadata": {},
          "execution_count": 15
        }
      ]
    },
    {
      "cell_type": "markdown",
      "source": [
        "***FOR TEST SET***"
      ],
      "metadata": {
        "id": "jL3NjbQ_pnRO"
      }
    },
    {
      "cell_type": "code",
      "source": [
        "test.isnull().sum()"
      ],
      "metadata": {
        "id": "OAi5BvbipnRP",
        "outputId": "bb4f0cca-94a2-41ed-e9cd-0c8b5457842b",
        "execution": {
          "iopub.status.busy": "2023-04-23T16:01:11.667401Z",
          "iopub.execute_input": "2023-04-23T16:01:11.668027Z",
          "iopub.status.idle": "2023-04-23T16:01:11.684896Z",
          "shell.execute_reply.started": "2023-04-23T16:01:11.667979Z",
          "shell.execute_reply": "2023-04-23T16:01:11.683864Z"
        },
        "trusted": true,
        "colab": {
          "base_uri": "https://localhost:8080/"
        }
      },
      "execution_count": null,
      "outputs": [
        {
          "output_type": "execute_result",
          "data": {
            "text/plain": [
              "employee_id                0\n",
              "department                 0\n",
              "region                     0\n",
              "education               1034\n",
              "gender                     0\n",
              "recruitment_channel        0\n",
              "no_of_trainings            0\n",
              "age                        0\n",
              "previous_year_rating    1812\n",
              "length_of_service          0\n",
              "KPIs_met >80%              0\n",
              "awards_won?                0\n",
              "avg_training_score         0\n",
              "dtype: int64"
            ]
          },
          "metadata": {},
          "execution_count": 16
        }
      ]
    },
    {
      "cell_type": "code",
      "source": [
        "test['previous_year_rating'].fillna(0,inplace=True)\n",
        "test['previous_year_rating'].isnull().sum()"
      ],
      "metadata": {
        "id": "iHGswIV8pnRQ",
        "execution": {
          "iopub.status.busy": "2023-04-23T16:01:11.686832Z",
          "iopub.execute_input": "2023-04-23T16:01:11.687183Z",
          "iopub.status.idle": "2023-04-23T16:01:11.696723Z",
          "shell.execute_reply.started": "2023-04-23T16:01:11.687149Z",
          "shell.execute_reply": "2023-04-23T16:01:11.695445Z"
        },
        "trusted": true,
        "outputId": "58f0f65a-896b-4a75-b402-ce34553c0054",
        "colab": {
          "base_uri": "https://localhost:8080/"
        }
      },
      "execution_count": null,
      "outputs": [
        {
          "output_type": "execute_result",
          "data": {
            "text/plain": [
              "0"
            ]
          },
          "metadata": {},
          "execution_count": 17
        }
      ]
    },
    {
      "cell_type": "code",
      "source": [
        "#Dropping records with education=NULL\n",
        "test=test.dropna()\n",
        "test.shape #1034 records dropped"
      ],
      "metadata": {
        "id": "j9ctU8TxpnRQ",
        "execution": {
          "iopub.status.busy": "2023-04-23T16:01:11.698598Z",
          "iopub.execute_input": "2023-04-23T16:01:11.699331Z",
          "iopub.status.idle": "2023-04-23T16:01:11.719992Z",
          "shell.execute_reply.started": "2023-04-23T16:01:11.699280Z",
          "shell.execute_reply": "2023-04-23T16:01:11.718453Z"
        },
        "trusted": true,
        "outputId": "62bf9c61-0fc9-4618-93e9-ed93bdbdb5f1",
        "colab": {
          "base_uri": "https://localhost:8080/"
        }
      },
      "execution_count": null,
      "outputs": [
        {
          "output_type": "execute_result",
          "data": {
            "text/plain": [
              "(22456, 13)"
            ]
          },
          "metadata": {},
          "execution_count": 18
        }
      ]
    },
    {
      "cell_type": "markdown",
      "source": [
        "### Splitting the dataset"
      ],
      "metadata": {
        "id": "uzK_6cGqpnRQ"
      }
    },
    {
      "cell_type": "markdown",
      "source": [
        "It is desirable to split the dataset in such a way that preserves the same proportions of examples in each class as observed in the original dataset."
      ],
      "metadata": {
        "id": "xH_rJvEs9HzE"
      }
    },
    {
      "cell_type": "code",
      "source": [
        "#Splitting dataset into train set and validation set\n",
        "train,val=train_test_split(dftrain,test_size=0.30,random_state=1,stratify=dftrain.is_promoted)"
      ],
      "metadata": {
        "id": "RKupe3xLpnRR",
        "execution": {
          "iopub.status.busy": "2023-04-23T16:01:11.722561Z",
          "iopub.execute_input": "2023-04-23T16:01:11.723090Z",
          "iopub.status.idle": "2023-04-23T16:01:11.775295Z",
          "shell.execute_reply.started": "2023-04-23T16:01:11.723037Z",
          "shell.execute_reply": "2023-04-23T16:01:11.774314Z"
        },
        "trusted": true
      },
      "execution_count": null,
      "outputs": []
    },
    {
      "cell_type": "code",
      "source": [
        "print(\"After Splitting: \\n\")\n",
        "print(\"Train set shape : \\t\",train.shape)\n",
        "print(\"Validation set shape : \\t\",val.shape)\n",
        "print(\"\\nTarget Variable in Original Data :\\t\",Counter(dftrain.is_promoted))\n",
        "print(\"Target Variable in Train Data : \\t\",Counter(train.is_promoted))\n",
        "print(\"Target Variable in Validation Data :\\t\",Counter(val.is_promoted))\n"
      ],
      "metadata": {
        "id": "_ajqT__MpnRR",
        "execution": {
          "iopub.status.busy": "2023-04-23T16:01:11.776736Z",
          "iopub.execute_input": "2023-04-23T16:01:11.777254Z",
          "iopub.status.idle": "2023-04-23T16:01:11.799702Z",
          "shell.execute_reply.started": "2023-04-23T16:01:11.777217Z",
          "shell.execute_reply": "2023-04-23T16:01:11.798958Z"
        },
        "trusted": true,
        "outputId": "f51727dc-7af7-4d36-a5eb-8fab4f50a48f",
        "colab": {
          "base_uri": "https://localhost:8080/"
        }
      },
      "execution_count": null,
      "outputs": [
        {
          "output_type": "stream",
          "name": "stdout",
          "text": [
            "After Splitting: \n",
            "\n",
            "Train set shape : \t (36679, 14)\n",
            "Validation set shape : \t (15720, 14)\n",
            "\n",
            "Target Variable in Original Data :\t Counter({0: 47853, 1: 4546})\n",
            "Target Variable in Train Data : \t Counter({0: 33497, 1: 3182})\n",
            "Target Variable in Validation Data :\t Counter({0: 14356, 1: 1364})\n"
          ]
        }
      ]
    },
    {
      "cell_type": "code",
      "source": [
        "#Further splitting Validation set in Val1 and Val2 set for better analysis\n",
        "val1,val2=train_test_split(val,test_size=0.50,random_state=1,stratify=val.is_promoted)"
      ],
      "metadata": {
        "execution": {
          "iopub.status.busy": "2023-04-23T16:01:11.800911Z",
          "iopub.execute_input": "2023-04-23T16:01:11.801456Z",
          "iopub.status.idle": "2023-04-23T16:01:11.821165Z",
          "shell.execute_reply.started": "2023-04-23T16:01:11.801419Z",
          "shell.execute_reply": "2023-04-23T16:01:11.819893Z"
        },
        "trusted": true,
        "id": "O3uhBu9I9HzF"
      },
      "execution_count": null,
      "outputs": []
    },
    {
      "cell_type": "code",
      "source": [
        "print(\"After Further Splitting: \\n\")\n",
        "print(\"Validation set shape : \\t\",val.shape)\n",
        "print(\"Val1 set shape : \\t\",val1.shape)\n",
        "print(\"Val2 set shape : \\t\",val2.shape)\n",
        "\n",
        "\n",
        "print(\"\\nTarget Variable in Validation Data: \\t\",Counter(val.is_promoted))\n",
        "print(\"Target Variable in Val1 Data :  \\t\",Counter(val1.is_promoted))\n",
        "print(\"Target Variable in Val2 Data :  \\t\",Counter(val2.is_promoted))"
      ],
      "metadata": {
        "execution": {
          "iopub.status.busy": "2023-04-23T16:01:11.822633Z",
          "iopub.execute_input": "2023-04-23T16:01:11.822959Z",
          "iopub.status.idle": "2023-04-23T16:01:11.836986Z",
          "shell.execute_reply.started": "2023-04-23T16:01:11.822928Z",
          "shell.execute_reply": "2023-04-23T16:01:11.835718Z"
        },
        "trusted": true,
        "id": "hw8f853p9HzF",
        "outputId": "4d463a0e-9be4-431c-cfc9-882d20031345",
        "colab": {
          "base_uri": "https://localhost:8080/"
        }
      },
      "execution_count": null,
      "outputs": [
        {
          "output_type": "stream",
          "name": "stdout",
          "text": [
            "After Further Splitting: \n",
            "\n",
            "Validation set shape : \t (15720, 14)\n",
            "Val1 set shape : \t (7860, 14)\n",
            "Val2 set shape : \t (7860, 14)\n",
            "\n",
            "Target Variable in Validation Data: \t Counter({0: 14356, 1: 1364})\n",
            "Target Variable in Val1 Data :  \t Counter({0: 7178, 1: 682})\n",
            "Target Variable in Val2 Data :  \t Counter({0: 7178, 1: 682})\n"
          ]
        }
      ]
    },
    {
      "cell_type": "markdown",
      "source": [
        "***There is no class ratio imbalance after splitting so stratified splitting has worked successfully***"
      ],
      "metadata": {
        "id": "gE9ieUKP9HzG"
      }
    },
    {
      "cell_type": "code",
      "source": [
        "x_train=train.drop('is_promoted',axis=1)\n",
        "y_train = train.is_promoted\n",
        "print(\"train :\",train.shape)\n",
        "print(\"xtrain :\",x_train.shape)\n",
        "print(\"ytrain :\",y_train.shape)"
      ],
      "metadata": {
        "execution": {
          "iopub.status.busy": "2023-04-23T16:01:11.838786Z",
          "iopub.execute_input": "2023-04-23T16:01:11.839096Z",
          "iopub.status.idle": "2023-04-23T16:01:11.861636Z",
          "shell.execute_reply.started": "2023-04-23T16:01:11.839066Z",
          "shell.execute_reply": "2023-04-23T16:01:11.860528Z"
        },
        "trusted": true,
        "id": "wIHEYtP69HzG",
        "outputId": "b22f0b69-12ba-40b3-d545-6955857bb8f2",
        "colab": {
          "base_uri": "https://localhost:8080/"
        }
      },
      "execution_count": null,
      "outputs": [
        {
          "output_type": "stream",
          "name": "stdout",
          "text": [
            "train : (36679, 14)\n",
            "xtrain : (36679, 13)\n",
            "ytrain : (36679,)\n"
          ]
        }
      ]
    },
    {
      "cell_type": "code",
      "source": [
        "x_val1=val1.drop('is_promoted',axis=1)\n",
        "y_val1 = val1.is_promoted\n",
        "print(\"val1 :\",val1.shape)\n",
        "print(\"xval1 :\",x_val1.shape)\n",
        "print(\"yval1 :\",y_val1.shape)"
      ],
      "metadata": {
        "execution": {
          "iopub.status.busy": "2023-04-23T16:01:11.863200Z",
          "iopub.execute_input": "2023-04-23T16:01:11.863667Z",
          "iopub.status.idle": "2023-04-23T16:01:11.872991Z",
          "shell.execute_reply.started": "2023-04-23T16:01:11.863632Z",
          "shell.execute_reply": "2023-04-23T16:01:11.871878Z"
        },
        "trusted": true,
        "id": "9p7BXx6f9HzG",
        "outputId": "00bc81f8-37ea-4658-e632-e7e23781b7d1",
        "colab": {
          "base_uri": "https://localhost:8080/"
        }
      },
      "execution_count": null,
      "outputs": [
        {
          "output_type": "stream",
          "name": "stdout",
          "text": [
            "val1 : (7860, 14)\n",
            "xval1 : (7860, 13)\n",
            "yval1 : (7860,)\n"
          ]
        }
      ]
    },
    {
      "cell_type": "code",
      "source": [
        "x_val2=val2.drop('is_promoted',axis=1)\n",
        "y_val2 = val2.is_promoted\n",
        "print(\"val1 :\",val2.shape)\n",
        "print(\"xval1 :\",x_val2.shape)\n",
        "print(\"yval1 :\",y_val2.shape)"
      ],
      "metadata": {
        "execution": {
          "iopub.status.busy": "2023-04-23T16:01:11.874761Z",
          "iopub.execute_input": "2023-04-23T16:01:11.875167Z",
          "iopub.status.idle": "2023-04-23T16:01:11.888218Z",
          "shell.execute_reply.started": "2023-04-23T16:01:11.875124Z",
          "shell.execute_reply": "2023-04-23T16:01:11.887039Z"
        },
        "trusted": true,
        "id": "Z4nur_wH9HzH",
        "outputId": "7542ee6e-86f7-467e-df78-d79be1968d01",
        "colab": {
          "base_uri": "https://localhost:8080/"
        }
      },
      "execution_count": null,
      "outputs": [
        {
          "output_type": "stream",
          "name": "stdout",
          "text": [
            "val1 : (7860, 14)\n",
            "xval1 : (7860, 13)\n",
            "yval1 : (7860,)\n"
          ]
        }
      ]
    },
    {
      "cell_type": "code",
      "source": [
        "x_test=test\n",
        "print(\"x_test :\",x_test.shape)"
      ],
      "metadata": {
        "execution": {
          "iopub.status.busy": "2023-04-23T16:01:11.889758Z",
          "iopub.execute_input": "2023-04-23T16:01:11.890078Z",
          "iopub.status.idle": "2023-04-23T16:01:11.900875Z",
          "shell.execute_reply.started": "2023-04-23T16:01:11.890047Z",
          "shell.execute_reply": "2023-04-23T16:01:11.899851Z"
        },
        "trusted": true,
        "id": "BtubT7Rp9HzH",
        "outputId": "0f74199a-3d47-4b80-cab1-3d1fcd0a0420",
        "colab": {
          "base_uri": "https://localhost:8080/"
        }
      },
      "execution_count": null,
      "outputs": [
        {
          "output_type": "stream",
          "name": "stdout",
          "text": [
            "x_test : (22456, 13)\n"
          ]
        }
      ]
    },
    {
      "cell_type": "markdown",
      "source": [
        "***All the required datasets have been created, moving on to EDA.....***"
      ],
      "metadata": {
        "id": "eQ3P_y4O9HzH"
      }
    },
    {
      "cell_type": "markdown",
      "source": [
        "# <center>----- EXPLORATORY DATA ANALYSIS (EDA) -----</center> "
      ],
      "metadata": {
        "id": "vjhWv4uOpnRR"
      }
    },
    {
      "cell_type": "markdown",
      "source": [
        "***1. EDA helps us to detect patterns and trends which might be useful in drawing insights***\n",
        "\n",
        "***2. EDA is always done on the \"train\" dataset and not on Validation/Test sets because it will lead to data leakage and would be inappropriate***\n"
      ],
      "metadata": {
        "id": "4winH4SS9HzI"
      }
    },
    {
      "cell_type": "markdown",
      "source": [
        "###  EDA BASED ON DEPARTMENT"
      ],
      "metadata": {
        "id": "LQd2zTq9pnRS"
      }
    },
    {
      "cell_type": "code",
      "source": [
        "plt.figure(figsize=(14,8))\n",
        "sns.countplot(x='department',hue='is_promoted',data=train)\n",
        "plt.title('Department-wise Promotion Count')\n",
        "plt.xlabel('Department')\n",
        "plt.ylabel('Employees')\n",
        "plt.show()"
      ],
      "metadata": {
        "id": "xIgWP2tYpnRS",
        "outputId": "18115386-ad83-4778-c9c7-6067983aa609",
        "execution": {
          "iopub.status.busy": "2023-04-23T16:01:11.902471Z",
          "iopub.execute_input": "2023-04-23T16:01:11.902833Z",
          "iopub.status.idle": "2023-04-23T16:01:12.248286Z",
          "shell.execute_reply.started": "2023-04-23T16:01:11.902745Z",
          "shell.execute_reply": "2023-04-23T16:01:12.247229Z"
        },
        "trusted": true,
        "colab": {
          "base_uri": "https://localhost:8080/",
          "height": 597
        }
      },
      "execution_count": null,
      "outputs": [
        {
          "output_type": "display_data",
          "data": {
            "text/plain": [
              "<Figure size 1400x800 with 1 Axes>"
            ],
            "image/png": "[encoded data removed]"
          },
          "metadata": {}
        }
      ]
    },
    {
      "cell_type": "markdown",
      "source": [
        "<b>Insights drawn from the above plots:\n",
        "1. Technology Dept. has the highest promotion rate across all deparments.\n",
        "2. Legal Dept. has the lowest promotion rate across all departments.\n",
        "3. Top 3 Departments to work in on the basis of Promotions are : Technology, Procurement, Analysis</b>"
      ],
      "metadata": {
        "id": "aTotutErpnRT"
      }
    },
    {
      "cell_type": "markdown",
      "source": [
        "### EDA BASED ON EDUCATION & GENDER"
      ],
      "metadata": {
        "id": "ooFDoOTXpnRV"
      }
    },
    {
      "cell_type": "code",
      "source": [
        "plt.figure(figsize=(14,8))\n",
        "sns.countplot(x='education',hue='is_promoted',data=train)\n",
        "plt.title('Education-wise Promotion Count')\n",
        "plt.xlabel('Education Level')\n",
        "plt.ylabel('Employees')\n",
        "plt.show()"
      ],
      "metadata": {
        "id": "DlKeUPB7pnRW",
        "outputId": "c5ac0054-cb91-435e-dbcc-ffa8aa9658db",
        "execution": {
          "iopub.status.busy": "2023-04-23T16:01:13.015651Z",
          "iopub.execute_input": "2023-04-23T16:01:13.016000Z",
          "iopub.status.idle": "2023-04-23T16:01:13.233275Z",
          "shell.execute_reply.started": "2023-04-23T16:01:13.015967Z",
          "shell.execute_reply": "2023-04-23T16:01:13.232248Z"
        },
        "trusted": true,
        "colab": {
          "base_uri": "https://localhost:8080/",
          "height": 597
        }
      },
      "execution_count": null,
      "outputs": [
        {
          "output_type": "display_data",
          "data": {
            "text/plain": [
              "<Figure size 1400x800 with 1 Axes>"
            ],
            "image/png": "[encoded data removed]"
          },
          "metadata": {}
        }
      ]
    },
    {
      "cell_type": "markdown",
      "source": [
        "<b>Insights drawn from the above plot:\n",
        "1. Almost 2/3 rd of the workforce holds a Bachelor's Degree or equivalent.\n",
        "2. Employees with just Secondary Level Education have also been hired.\n",
        "  > Indicates that the company focuses on skill rather than degree.\n"
      ],
      "metadata": {
        "id": "8MWDMkX_pnRW"
      }
    },
    {
      "cell_type": "code",
      "source": [
        "labels = 'f','m'\n",
        "sizes = list(train.groupby('gender')['gender'].count())\n",
        "explode=(0.1,0)\n",
        "fig1, ax1 = plt.subplots()\n",
        "ax1.pie(sizes,explode=explode,labels=labels, autopct='%1.1f%%',\n",
        "        shadow=True, startangle=90)\n",
        "ax1.axis('equal')  \n",
        "plt.title(\"Gender Distribution of workforce\")\n",
        "plt.show()"
      ],
      "metadata": {
        "id": "Ug9uZSaGpnRW",
        "outputId": "c329b817-af5e-4e1e-88a2-1891d21b81a4",
        "execution": {
          "iopub.status.busy": "2023-04-23T16:01:13.234599Z",
          "iopub.execute_input": "2023-04-23T16:01:13.234895Z",
          "iopub.status.idle": "2023-04-23T16:01:13.361139Z",
          "shell.execute_reply.started": "2023-04-23T16:01:13.234868Z",
          "shell.execute_reply": "2023-04-23T16:01:13.360189Z"
        },
        "trusted": true,
        "colab": {
          "base_uri": "https://localhost:8080/",
          "height": 428
        }
      },
      "execution_count": null,
      "outputs": [
        {
          "output_type": "display_data",
          "data": {
            "text/plain": [
              "<Figure size 640x480 with 1 Axes>"
            ],
            "image/png": "[encoded data removed]"
          },
          "metadata": {}
        }
      ]
    },
    {
      "cell_type": "markdown",
      "source": [
        "<b>Insights drawn from the above plot:\n",
        "1. There is a huge difference between the number of male employees and and female employees. 70% of the workforce is made up of male employees.\n",
        "     \n"
      ],
      "metadata": {
        "id": "3gUYnDI2pnRX"
      }
    },
    {
      "cell_type": "code",
      "source": [
        "z=train.groupby(['gender','education','is_promoted'])['is_promoted'].count().unstack().fillna(0)\n",
        "z['%']=z[1]/(z[0] + z[1])#calculation of promotion %\n",
        "plt.figure(figsize=(12,6))\n",
        "z['%'].plot.bar()\n",
        "plt.title('Gender & Education Level-wise Promotion Rate')\n",
        "plt.xlabel('Gender & Education Level')\n",
        "plt.ylabel('% of employees promoted')\n",
        "plt.show()"
      ],
      "metadata": {
        "id": "md7CC47CpnRY",
        "outputId": "f5403ac5-dd8e-42d0-fd69-1aa032ef5073",
        "execution": {
          "iopub.status.busy": "2023-04-23T16:01:13.657273Z",
          "iopub.execute_input": "2023-04-23T16:01:13.657659Z",
          "iopub.status.idle": "2023-04-23T16:01:13.865971Z",
          "shell.execute_reply.started": "2023-04-23T16:01:13.657622Z",
          "shell.execute_reply": "2023-04-23T16:01:13.865118Z"
        },
        "trusted": true,
        "colab": {
          "base_uri": "https://localhost:8080/",
          "height": 680
        }
      },
      "execution_count": null,
      "outputs": [
        {
          "output_type": "display_data",
          "data": {
            "text/plain": [
              "<Figure size 1200x600 with 1 Axes>"
            ],
            "image/png": "[encoded data removed]"
          },
          "metadata": {}
        }
      ]
    },
    {
      "cell_type": "markdown",
      "source": [
        "<b>Insights drawn from the above plot:\n",
        "1. Female employees with 'Masters & above' education level have the highest rate of getting promoted in the entire company.\n",
        "  >The company can use this fact to attract more female employees to work for the company \n",
        "\n",
        "2. Among the male employees, those with 'Bachelor's' education level have the least chance of getting promoted due to high competition.\n",
        "  > Employees should upskill themselves to beat the competition\n",
        "\n",
        "   "
      ],
      "metadata": {
        "id": "WB_QSSK_pnRY"
      }
    },
    {
      "cell_type": "markdown",
      "source": [
        "##  EDA BASED ON RECRUITMENT CHANNEL"
      ],
      "metadata": {
        "id": "FUxs1qkypnRZ"
      }
    },
    {
      "cell_type": "code",
      "source": [
        "labels='Other','Referred','Sourcing'\n",
        "sizes = list(train.groupby('recruitment_channel')['recruitment_channel'].count())\n",
        "explode=(0.035,0.05,0.035)\n",
        "plt.figure(figsize=(7,7))\n",
        "plt.pie(sizes,explode=explode,labels=labels, autopct='%1.1f%%',\n",
        "        shadow=False, startangle=90)\n",
        "plt.title(\"Contribution of Recruiment Channels in hiring of employees\")\n",
        "plt.show()"
      ],
      "metadata": {
        "id": "U1NB6LCBpnRZ",
        "outputId": "0abce2ae-84d4-4e30-a92e-0e9dbf691776",
        "execution": {
          "iopub.status.busy": "2023-04-23T16:01:13.867065Z",
          "iopub.execute_input": "2023-04-23T16:01:13.867492Z",
          "iopub.status.idle": "2023-04-23T16:01:13.990628Z",
          "shell.execute_reply.started": "2023-04-23T16:01:13.867459Z",
          "shell.execute_reply": "2023-04-23T16:01:13.989526Z"
        },
        "trusted": true,
        "colab": {
          "base_uri": "https://localhost:8080/",
          "height": 598
        }
      },
      "execution_count": null,
      "outputs": [
        {
          "output_type": "display_data",
          "data": {
            "text/plain": [
              "<Figure size 700x700 with 1 Axes>"
            ],
            "image/png": "[encoded data removed]"
          },
          "metadata": {}
        }
      ]
    },
    {
      "cell_type": "markdown",
      "source": [
        "<b>Insights drawn from the above plot:\n",
        "1. 55.5% of employees have been hired through other channels\n",
        "2. 2.2% employees hired through referrals\n",
        "  > Indicates that only a handful of people are given referrals\n",
        "3. 42.3% employees hired through sourcing"
      ],
      "metadata": {
        "id": "sjx2DJN1pnRa"
      }
    },
    {
      "cell_type": "code",
      "source": [
        "z=train.groupby(['recruitment_channel','is_promoted'])['is_promoted'].count().unstack().fillna(0)\n",
        "z['%']=z[1]/(z[0] + z[1])#calculation of promotion %\n",
        "plt.figure(figsize=(7,7))\n",
        "z['%'].plot.bar()\n",
        "plt.title('Recruitment Channel wise Promotion Rate')\n",
        "plt.xlabel('Recruitment Channel')\n",
        "plt.ylabel('% of employees promoted')\n",
        "plt.show()"
      ],
      "metadata": {
        "id": "p30xjunppnRa",
        "outputId": "051284bb-cc95-41a0-a172-daa5a4cc16d9",
        "execution": {
          "iopub.status.busy": "2023-04-23T16:01:13.992187Z",
          "iopub.execute_input": "2023-04-23T16:01:13.992837Z",
          "iopub.status.idle": "2023-04-23T16:01:14.161417Z",
          "shell.execute_reply.started": "2023-04-23T16:01:13.992787Z",
          "shell.execute_reply": "2023-04-23T16:01:14.160276Z"
        },
        "trusted": true,
        "colab": {
          "base_uri": "https://localhost:8080/",
          "height": 686
        }
      },
      "execution_count": null,
      "outputs": [
        {
          "output_type": "display_data",
          "data": {
            "text/plain": [
              "<Figure size 700x700 with 1 Axes>"
            ],
            "image/png": "[encoded data removed]"
          },
          "metadata": {}
        }
      ]
    },
    {
      "cell_type": "markdown",
      "source": [
        "<b>Insights drawn from the above plot:\n",
        "1. Even though number of employees hired through referrals is the least, the promotion rate is the highest for them.\n",
        "    > This indicates that employees only give referrals to those people who are expected to excel at their work after getting selected"
      ],
      "metadata": {
        "id": "amRzeiXUpnRa"
      }
    },
    {
      "cell_type": "markdown",
      "source": [
        "##  EDA BASED ON AGE"
      ],
      "metadata": {
        "id": "Jt8VCBlWpnRc"
      }
    },
    {
      "cell_type": "code",
      "source": [
        "plt.figure(figsize=(10,7))\n",
        "sns.histplot(train.age,color='coral')\n",
        "plt.title(\"Age Distribution of Employees\")\n",
        "plt.show()"
      ],
      "metadata": {
        "id": "DZM3giU3pnRc",
        "outputId": "275c2bd4-7452-444f-c566-bc7bb6148982",
        "execution": {
          "iopub.status.busy": "2023-04-23T16:01:14.335574Z",
          "iopub.execute_input": "2023-04-23T16:01:14.335881Z",
          "iopub.status.idle": "2023-04-23T16:01:14.678267Z",
          "shell.execute_reply.started": "2023-04-23T16:01:14.335851Z",
          "shell.execute_reply": "2023-04-23T16:01:14.677183Z"
        },
        "trusted": true,
        "colab": {
          "base_uri": "https://localhost:8080/",
          "height": 641
        }
      },
      "execution_count": null,
      "outputs": [
        {
          "output_type": "display_data",
          "data": {
            "text/plain": [
              "<Figure size 1000x700 with 1 Axes>"
            ],
            "image/png": "[encoded data removed]"
          },
          "metadata": {}
        }
      ]
    },
    {
      "cell_type": "markdown",
      "source": [
        "<b>Insights drawn from the above plot:\n",
        "1. The age group of 30-35 has the most number of employees as compared to any other age groups.\n",
        "  > Signifies that even after gaining moderate amount of experience in the industry, employees prefer to work for this company.\n",
        "  "
      ],
      "metadata": {
        "id": "5QSvDi6dpnRd"
      }
    },
    {
      "cell_type": "markdown",
      "source": [
        "##  EDA BASED ON KPIs MET > 80%"
      ],
      "metadata": {
        "id": "nVN_yu8XA_Zu"
      }
    },
    {
      "cell_type": "code",
      "source": [
        "z=train.groupby(['KPIs_met >80%','is_promoted'])['is_promoted'].count().unstack().fillna(0)\n",
        "z['%']=z[1]/(z[0]+z[1])#calculation of promotion %\n",
        "z"
      ],
      "metadata": {
        "id": "UoHjP1hPpnRd",
        "outputId": "247ab72e-b61b-4fa8-ae18-ed82232c2fa3",
        "execution": {
          "iopub.status.busy": "2023-04-23T16:01:15.637639Z",
          "iopub.execute_input": "2023-04-23T16:01:15.638121Z",
          "iopub.status.idle": "2023-04-23T16:01:15.657120Z",
          "shell.execute_reply.started": "2023-04-23T16:01:15.638071Z",
          "shell.execute_reply": "2023-04-23T16:01:15.656003Z"
        },
        "trusted": true,
        "colab": {
          "base_uri": "https://localhost:8080/",
          "height": 143
        }
      },
      "execution_count": null,
      "outputs": [
        {
          "output_type": "execute_result",
          "data": {
            "text/plain": [
              "is_promoted        0     1         %\n",
              "KPIs_met >80%                       \n",
              "0              22686   958  0.040518\n",
              "1              10811  2224  0.170618"
            ],
            "text/html": [
              "\n",
              "  <div id=\"df-305c1f5d-9980-4f0a-914c-0b37330ccbf7\">\n",
              "    <div class=\"colab-df-container\">\n",
              "      <div>\n",
              "<style scoped>\n",
              "    .dataframe tbody tr th:only-of-type {\n",
              "        vertical-align: middle;\n",
              "    }\n",
              "\n",
              "    .dataframe tbody tr th {\n",
              "        vertical-align: top;\n",
              "    }\n",
              "\n",
              "    .dataframe thead th {\n",
              "        text-align: right;\n",
              "    }\n",
              "</style>\n",
              "<table border=\"1\" class=\"dataframe\">\n",
              "  <thead>\n",
              "    <tr style=\"text-align: right;\">\n",
              "      <th>is_promoted</th>\n",
              "      <th>0</th>\n",
              "      <th>1</th>\n",
              "      <th>%</th>\n",
              "    </tr>\n",
              "    <tr>\n",
              "      <th>KPIs_met &gt;80%</th>\n",
              "      <th></th>\n",
              "      <th></th>\n",
              "      <th></th>\n",
              "    </tr>\n",
              "  </thead>\n",
              "  <tbody>\n",
              "    <tr>\n",
              "      <th>0</th>\n",
              "      <td>22686</td>\n",
              "      <td>958</td>\n",
              "      <td>0.040518</td>\n",
              "    </tr>\n",
              "    <tr>\n",
              "      <th>1</th>\n",
              "      <td>10811</td>\n",
              "      <td>2224</td>\n",
              "      <td>0.170618</td>\n",
              "    </tr>\n",
              "  </tbody>\n",
              "</table>\n",
              "</div>\n",
              "      <button class=\"colab-df-convert\" onclick=\"convertToInteractive('df-305c1f5d-9980-4f0a-914c-0b37330ccbf7')\"\n",
              "              title=\"Convert this dataframe to an interactive table.\"\n",
              "              style=\"display:none;\">\n",
              "        \n",
              "  <svg xmlns=\"http://www.w3.org/2000/svg\" height=\"24px\"viewBox=\"0 0 24 24\"\n",
              "       width=\"24px\">\n",
              "    <path d=\"M0 0h24v24H0V0z\" fill=\"none\"/>\n",
              "    <path d=\"M18.56 5.44l.94 2.06.94-2.06 2.06-.94-2.06-.94-.94-2.06-.94 2.06-2.06.94zm-11 1L8.5 8.5l.94-2.06 2.06-.94-2.06-.94L8.5 2.5l-.94 2.06-2.06.94zm10 10l.94 2.06.94-2.06 2.06-.94-2.06-.94-.94-2.06-.94 2.06-2.06.94z\"/><path d=\"M17.41 7.96l-1.37-1.37c-.4-.4-.92-.59-1.43-.59-.52 0-1.04.2-1.43.59L10.3 9.45l-7.72 7.72c-.78.78-.78 2.05 0 2.83L4 21.41c.39.39.9.59 1.41.59.51 0 1.02-.2 1.41-.59l7.78-7.78 2.81-2.81c.8-.78.8-2.07 0-2.86zM5.41 20L4 18.59l7.72-7.72 1.47 1.35L5.41 20z\"/>\n",
              "  </svg>\n",
              "      </button>\n",
              "      \n",
              "  <style>\n",
              "    .colab-df-container {\n",
              "      display:flex;\n",
              "      flex-wrap:wrap;\n",
              "      gap: 12px;\n",
              "    }\n",
              "\n",
              "    .colab-df-convert {\n",
              "      background-color: #E8F0FE;\n",
              "      border: none;\n",
              "      border-radius: 50%;\n",
              "      cursor: pointer;\n",
              "      display: none;\n",
              "      fill: #1967D2;\n",
              "      height: 32px;\n",
              "      padding: 0 0 0 0;\n",
              "      width: 32px;\n",
              "    }\n",
              "\n",
              "    .colab-df-convert:hover {\n",
              "      background-color: #E2EBFA;\n",
              "      box-shadow: 0px 1px 2px rgba(60, 64, 67, 0.3), 0px 1px 3px 1px rgba(60, 64, 67, 0.15);\n",
              "      fill: #174EA6;\n",
              "    }\n",
              "\n",
              "    [theme=dark] .colab-df-convert {\n",
              "      background-color: #3B4455;\n",
              "      fill: #D2E3FC;\n",
              "    }\n",
              "\n",
              "    [theme=dark] .colab-df-convert:hover {\n",
              "      background-color: #434B5C;\n",
              "      box-shadow: 0px 1px 3px 1px rgba(0, 0, 0, 0.15);\n",
              "      filter: drop-shadow(0px 1px 2px rgba(0, 0, 0, 0.3));\n",
              "      fill: #FFFFFF;\n",
              "    }\n",
              "  </style>\n",
              "\n",
              "      <script>\n",
              "        const buttonEl =\n",
              "          document.querySelector('#df-305c1f5d-9980-4f0a-914c-0b37330ccbf7 button.colab-df-convert');\n",
              "        buttonEl.style.display =\n",
              "          google.colab.kernel.accessAllowed ? 'block' : 'none';\n",
              "\n",
              "        async function convertToInteractive(key) {\n",
              "          const element = document.querySelector('#df-305c1f5d-9980-4f0a-914c-0b37330ccbf7');\n",
              "          const dataTable =\n",
              "            await google.colab.kernel.invokeFunction('convertToInteractive',\n",
              "                                                     [key], {});\n",
              "          if (!dataTable) return;\n",
              "\n",
              "          const docLinkHtml = 'Like what you see? Visit the ' +\n",
              "            '<a target=\"_blank\" href=https://colab.research.google.com/notebooks/data_table.ipynb>data table notebook</a>'\n",
              "            + ' to learn more about interactive tables.';\n",
              "          element.innerHTML = '';\n",
              "          dataTable['output_type'] = 'display_data';\n",
              "          await google.colab.output.renderOutput(dataTable, element);\n",
              "          const docLink = document.createElement('div');\n",
              "          docLink.innerHTML = docLinkHtml;\n",
              "          element.appendChild(docLink);\n",
              "        }\n",
              "      </script>\n",
              "    </div>\n",
              "  </div>\n",
              "  "
            ]
          },
          "metadata": {},
          "execution_count": 34
        }
      ]
    },
    {
      "cell_type": "code",
      "source": [
        "sns.barplot(x=train['KPIs_met >80%'],y=train['is_promoted'])\n",
        "plt.title(\"Promotions vs KPIs Met >80%\")\n",
        "plt.ylabel(\"Promotion %\")"
      ],
      "metadata": {
        "id": "wlvDW4nSpnRd",
        "outputId": "125ab004-82da-4dfe-e3d7-84d29f906ac8",
        "execution": {
          "iopub.status.busy": "2023-04-23T16:01:15.658544Z",
          "iopub.execute_input": "2023-04-23T16:01:15.658868Z",
          "iopub.status.idle": "2023-04-23T16:01:16.313343Z",
          "shell.execute_reply.started": "2023-04-23T16:01:15.658835Z",
          "shell.execute_reply": "2023-04-23T16:01:16.312185Z"
        },
        "trusted": true,
        "colab": {
          "base_uri": "https://localhost:8080/",
          "height": 489
        }
      },
      "execution_count": null,
      "outputs": [
        {
          "output_type": "execute_result",
          "data": {
            "text/plain": [
              "Text(0, 0.5, 'Promotion %')"
            ]
          },
          "metadata": {},
          "execution_count": 35
        },
        {
          "output_type": "display_data",
          "data": {
            "text/plain": [
              "<Figure size 640x480 with 1 Axes>"
            ],
            "image/png": "[encoded data removed]"
          },
          "metadata": {}
        }
      ]
    },
    {
      "cell_type": "markdown",
      "source": [
        "<b>Insights drawn from the above plot:\n",
        "1. Employees whose KPIs Met is > 80% have a very high chance of getting promoted with respect to those who have < 80%."
      ],
      "metadata": {
        "id": "LjFfwWSOWv7d"
      }
    },
    {
      "cell_type": "markdown",
      "source": [
        "##  EDA BASED ON AWARDS WON"
      ],
      "metadata": {
        "id": "MZKxSgOXYofA"
      }
    },
    {
      "cell_type": "code",
      "source": [
        "x=train.groupby(['awards_won?','is_promoted'])['is_promoted'].count().unstack().fillna(0)\n",
        "x['%']=x[1]/(x[0]+x[1])#calculation of promotion %\n",
        "x"
      ],
      "metadata": {
        "id": "YHDEP1np744u",
        "outputId": "59acf03d-b942-4032-afc9-8250751ca2cf",
        "execution": {
          "iopub.status.busy": "2023-04-23T16:01:16.314995Z",
          "iopub.execute_input": "2023-04-23T16:01:16.315300Z",
          "iopub.status.idle": "2023-04-23T16:01:16.334520Z",
          "shell.execute_reply.started": "2023-04-23T16:01:16.315271Z",
          "shell.execute_reply": "2023-04-23T16:01:16.333486Z"
        },
        "trusted": true,
        "colab": {
          "base_uri": "https://localhost:8080/",
          "height": 143
        }
      },
      "execution_count": null,
      "outputs": [
        {
          "output_type": "execute_result",
          "data": {
            "text/plain": [
              "is_promoted      0     1         %\n",
              "awards_won?                       \n",
              "0            33038  2788  0.077821\n",
              "1              459   394  0.461899"
            ],
            "text/html": [
              "\n",
              "  <div id=\"df-604574df-3b14-421e-bdf4-0dec876ef865\">\n",
              "    <div class=\"colab-df-container\">\n",
              "      <div>\n",
              "<style scoped>\n",
              "    .dataframe tbody tr th:only-of-type {\n",
              "        vertical-align: middle;\n",
              "    }\n",
              "\n",
              "    .dataframe tbody tr th {\n",
              "        vertical-align: top;\n",
              "    }\n",
              "\n",
              "    .dataframe thead th {\n",
              "        text-align: right;\n",
              "    }\n",
              "</style>\n",
              "<table border=\"1\" class=\"dataframe\">\n",
              "  <thead>\n",
              "    <tr style=\"text-align: right;\">\n",
              "      <th>is_promoted</th>\n",
              "      <th>0</th>\n",
              "      <th>1</th>\n",
              "      <th>%</th>\n",
              "    </tr>\n",
              "    <tr>\n",
              "      <th>awards_won?</th>\n",
              "      <th></th>\n",
              "      <th></th>\n",
              "      <th></th>\n",
              "    </tr>\n",
              "  </thead>\n",
              "  <tbody>\n",
              "    <tr>\n",
              "      <th>0</th>\n",
              "      <td>33038</td>\n",
              "      <td>2788</td>\n",
              "      <td>0.077821</td>\n",
              "    </tr>\n",
              "    <tr>\n",
              "      <th>1</th>\n",
              "      <td>459</td>\n",
              "      <td>394</td>\n",
              "      <td>0.461899</td>\n",
              "    </tr>\n",
              "  </tbody>\n",
              "</table>\n",
              "</div>\n",
              "      <button class=\"colab-df-convert\" onclick=\"convertToInteractive('df-604574df-3b14-421e-bdf4-0dec876ef865')\"\n",
              "              title=\"Convert this dataframe to an interactive table.\"\n",
              "              style=\"display:none;\">\n",
              "        \n",
              "  <svg xmlns=\"http://www.w3.org/2000/svg\" height=\"24px\"viewBox=\"0 0 24 24\"\n",
              "       width=\"24px\">\n",
              "    <path d=\"M0 0h24v24H0V0z\" fill=\"none\"/>\n",
              "    <path d=\"M18.56 5.44l.94 2.06.94-2.06 2.06-.94-2.06-.94-.94-2.06-.94 2.06-2.06.94zm-11 1L8.5 8.5l.94-2.06 2.06-.94-2.06-.94L8.5 2.5l-.94 2.06-2.06.94zm10 10l.94 2.06.94-2.06 2.06-.94-2.06-.94-.94-2.06-.94 2.06-2.06.94z\"/><path d=\"M17.41 7.96l-1.37-1.37c-.4-.4-.92-.59-1.43-.59-.52 0-1.04.2-1.43.59L10.3 9.45l-7.72 7.72c-.78.78-.78 2.05 0 2.83L4 21.41c.39.39.9.59 1.41.59.51 0 1.02-.2 1.41-.59l7.78-7.78 2.81-2.81c.8-.78.8-2.07 0-2.86zM5.41 20L4 18.59l7.72-7.72 1.47 1.35L5.41 20z\"/>\n",
              "  </svg>\n",
              "      </button>\n",
              "      \n",
              "  <style>\n",
              "    .colab-df-container {\n",
              "      display:flex;\n",
              "      flex-wrap:wrap;\n",
              "      gap: 12px;\n",
              "    }\n",
              "\n",
              "    .colab-df-convert {\n",
              "      background-color: #E8F0FE;\n",
              "      border: none;\n",
              "      border-radius: 50%;\n",
              "      cursor: pointer;\n",
              "      display: none;\n",
              "      fill: #1967D2;\n",
              "      height: 32px;\n",
              "      padding: 0 0 0 0;\n",
              "      width: 32px;\n",
              "    }\n",
              "\n",
              "    .colab-df-convert:hover {\n",
              "      background-color: #E2EBFA;\n",
              "      box-shadow: 0px 1px 2px rgba(60, 64, 67, 0.3), 0px 1px 3px 1px rgba(60, 64, 67, 0.15);\n",
              "      fill: #174EA6;\n",
              "    }\n",
              "\n",
              "    [theme=dark] .colab-df-convert {\n",
              "      background-color: #3B4455;\n",
              "      fill: #D2E3FC;\n",
              "    }\n",
              "\n",
              "    [theme=dark] .colab-df-convert:hover {\n",
              "      background-color: #434B5C;\n",
              "      box-shadow: 0px 1px 3px 1px rgba(0, 0, 0, 0.15);\n",
              "      filter: drop-shadow(0px 1px 2px rgba(0, 0, 0, 0.3));\n",
              "      fill: #FFFFFF;\n",
              "    }\n",
              "  </style>\n",
              "\n",
              "      <script>\n",
              "        const buttonEl =\n",
              "          document.querySelector('#df-604574df-3b14-421e-bdf4-0dec876ef865 button.colab-df-convert');\n",
              "        buttonEl.style.display =\n",
              "          google.colab.kernel.accessAllowed ? 'block' : 'none';\n",
              "\n",
              "        async function convertToInteractive(key) {\n",
              "          const element = document.querySelector('#df-604574df-3b14-421e-bdf4-0dec876ef865');\n",
              "          const dataTable =\n",
              "            await google.colab.kernel.invokeFunction('convertToInteractive',\n",
              "                                                     [key], {});\n",
              "          if (!dataTable) return;\n",
              "\n",
              "          const docLinkHtml = 'Like what you see? Visit the ' +\n",
              "            '<a target=\"_blank\" href=https://colab.research.google.com/notebooks/data_table.ipynb>data table notebook</a>'\n",
              "            + ' to learn more about interactive tables.';\n",
              "          element.innerHTML = '';\n",
              "          dataTable['output_type'] = 'display_data';\n",
              "          await google.colab.output.renderOutput(dataTable, element);\n",
              "          const docLink = document.createElement('div');\n",
              "          docLink.innerHTML = docLinkHtml;\n",
              "          element.appendChild(docLink);\n",
              "        }\n",
              "      </script>\n",
              "    </div>\n",
              "  </div>\n",
              "  "
            ]
          },
          "metadata": {},
          "execution_count": 36
        }
      ]
    },
    {
      "cell_type": "code",
      "source": [
        "sns.barplot(x=train['awards_won?'],y=train['is_promoted'])\n",
        "plt.title(\"Promotions vs Awards Won\")\n",
        "plt.ylabel(\"Promotion %\")\n",
        "plt.xlabel('Awards Won ?')"
      ],
      "metadata": {
        "id": "CtRohGlJYy1H",
        "outputId": "7817fc64-f2b8-46aa-b277-49a7758df749",
        "execution": {
          "iopub.status.busy": "2023-04-23T16:01:16.335859Z",
          "iopub.execute_input": "2023-04-23T16:01:16.336181Z",
          "iopub.status.idle": "2023-04-23T16:01:16.982309Z",
          "shell.execute_reply.started": "2023-04-23T16:01:16.336152Z",
          "shell.execute_reply": "2023-04-23T16:01:16.981239Z"
        },
        "trusted": true,
        "colab": {
          "base_uri": "https://localhost:8080/",
          "height": 489
        }
      },
      "execution_count": null,
      "outputs": [
        {
          "output_type": "execute_result",
          "data": {
            "text/plain": [
              "Text(0.5, 0, 'Awards Won ?')"
            ]
          },
          "metadata": {},
          "execution_count": 37
        },
        {
          "output_type": "display_data",
          "data": {
            "text/plain": [
              "<Figure size 640x480 with 1 Axes>"
            ],
            "image/png": "[encoded data removed]"
          },
          "metadata": {}
        }
      ]
    },
    {
      "cell_type": "markdown",
      "source": [
        "<b>Insights drawn from the above plot:\n",
        "1. Very high chance of getting promoted if the employee has won an award.\n",
        "  > Company checks whether the employee has won an award or not while promoting so employees should keep in mind to give their best performance."
      ],
      "metadata": {
        "id": "fLOvsGwCZTVM"
      }
    },
    {
      "cell_type": "markdown",
      "source": [
        "### Correlation Matrix"
      ],
      "metadata": {
        "id": "uQwnifuzdq_0"
      }
    },
    {
      "cell_type": "code",
      "source": [
        "plt.figure(figsize=(11,8))\n",
        "sns.heatmap(train.corr(),annot=True)\n",
        "plt.show()"
      ],
      "metadata": {
        "id": "RWYvV_OtoESp",
        "outputId": "f8d11a18-daf7-4213-e5b0-4151fffd492b",
        "execution": {
          "iopub.status.busy": "2023-04-23T16:01:18.407981Z",
          "iopub.execute_input": "2023-04-23T16:01:18.408299Z",
          "iopub.status.idle": "2023-04-23T16:01:19.162341Z",
          "shell.execute_reply.started": "2023-04-23T16:01:18.408269Z",
          "shell.execute_reply": "2023-04-23T16:01:19.161516Z"
        },
        "trusted": true,
        "colab": {
          "base_uri": "https://localhost:8080/",
          "height": 814
        }
      },
      "execution_count": null,
      "outputs": [
        {
          "output_type": "display_data",
          "data": {
            "text/plain": [
              "<Figure size 1100x800 with 2 Axes>"
            ],
            "image/png": "[encoded data removed]"
          },
          "metadata": {}
        }
      ]
    },
    {
      "cell_type": "markdown",
      "source": [
        "#### Out of all the numerical columns, ''previous_year_rating'', ''KPIs_met>80%'',''awards_won?'' & ''avg_training_score'' seem to be more correlated to the target feature than the others"
      ],
      "metadata": {
        "id": "-OVviCWDoEO8"
      }
    },
    {
      "cell_type": "markdown",
      "source": [
        "# <center> ----- FEATURE ENGINEERING ----- </center>"
      ],
      "metadata": {
        "id": "-ImeW4wroEMd"
      }
    },
    {
      "cell_type": "code",
      "source": [
        "train[train.select_dtypes(include=['object']).columns.tolist()].nunique()\n"
      ],
      "metadata": {
        "execution": {
          "iopub.status.busy": "2023-04-23T16:01:19.163813Z",
          "iopub.execute_input": "2023-04-23T16:01:19.164267Z",
          "iopub.status.idle": "2023-04-23T16:01:19.205245Z",
          "shell.execute_reply.started": "2023-04-23T16:01:19.164232Z",
          "shell.execute_reply": "2023-04-23T16:01:19.204437Z"
        },
        "trusted": true,
        "id": "z-5AQhlU9HzP",
        "outputId": "44318752-f53e-43ff-c090-8f842d0e50f7",
        "colab": {
          "base_uri": "https://localhost:8080/"
        }
      },
      "execution_count": null,
      "outputs": [
        {
          "output_type": "execute_result",
          "data": {
            "text/plain": [
              "department              9\n",
              "region                 34\n",
              "education               3\n",
              "gender                  2\n",
              "recruitment_channel     3\n",
              "dtype: int64"
            ]
          },
          "metadata": {},
          "execution_count": 39
        }
      ]
    },
    {
      "cell_type": "markdown",
      "source": [
        "*The columns having less number of categories can be One Hot Encoded. Other columns can be Target encoded*"
      ],
      "metadata": {
        "id": "8J6DJ5AG9HzP"
      }
    },
    {
      "cell_type": "markdown",
      "source": [
        "**Performing One Hot Encoding**"
      ],
      "metadata": {
        "id": "VH3z-DayoEKg"
      }
    },
    {
      "cell_type": "code",
      "source": [
        "# ONE HOT ENCODING \"education\" column across all datasets\n",
        "\n",
        "\n",
        "dummy1=pd.get_dummies(x_train['education'])\n",
        "x_train=x_train.join(dummy1)\n",
        "\n",
        "dummy2=pd.get_dummies(x_val1['education'])\n",
        "x_val1=x_val1.join(dummy2)\n",
        "\n",
        "dummy3=pd.get_dummies(x_val2['education'])\n",
        "x_val2=x_val2.join(dummy3)\n",
        "\n",
        "dummy4=pd.get_dummies(x_test['education'])\n",
        "x_test=x_test.join(dummy4)"
      ],
      "metadata": {
        "id": "Upbxb_JyoEGp",
        "execution": {
          "iopub.status.busy": "2023-04-23T16:01:19.206793Z",
          "iopub.execute_input": "2023-04-23T16:01:19.207113Z",
          "iopub.status.idle": "2023-04-23T16:01:19.240370Z",
          "shell.execute_reply.started": "2023-04-23T16:01:19.207084Z",
          "shell.execute_reply": "2023-04-23T16:01:19.239352Z"
        },
        "trusted": true
      },
      "execution_count": null,
      "outputs": []
    },
    {
      "cell_type": "code",
      "source": [
        "# Education has been encoded so we can drop it\n",
        "\n",
        "x_train.drop('education',axis=1,inplace=True)\n",
        "x_val1.drop('education',axis=1,inplace=True)\n",
        "x_val2.drop('education',axis=1,inplace=True)\n",
        "x_test.drop('education',axis=1,inplace=True)\n"
      ],
      "metadata": {
        "execution": {
          "iopub.status.busy": "2023-04-23T16:01:19.241505Z",
          "iopub.execute_input": "2023-04-23T16:01:19.241904Z",
          "iopub.status.idle": "2023-04-23T16:01:19.261258Z",
          "shell.execute_reply.started": "2023-04-23T16:01:19.241825Z",
          "shell.execute_reply": "2023-04-23T16:01:19.260023Z"
        },
        "trusted": true,
        "id": "wsEHimId9HzP"
      },
      "execution_count": null,
      "outputs": []
    },
    {
      "cell_type": "code",
      "source": [
        "x_train.head()\n"
      ],
      "metadata": {
        "execution": {
          "iopub.status.busy": "2023-04-23T16:01:19.262575Z",
          "iopub.execute_input": "2023-04-23T16:01:19.262894Z",
          "iopub.status.idle": "2023-04-23T16:01:19.283790Z",
          "shell.execute_reply.started": "2023-04-23T16:01:19.262862Z",
          "shell.execute_reply": "2023-04-23T16:01:19.282500Z"
        },
        "trusted": true,
        "id": "VQYbVIwa9HzP",
        "outputId": "7e1cd64b-2298-4080-a9f5-fb0602c049f8",
        "colab": {
          "base_uri": "https://localhost:8080/",
          "height": 305
        }
      },
      "execution_count": null,
      "outputs": [
        {
          "output_type": "execute_result",
          "data": {
            "text/plain": [
              "       employee_id         department     region gender recruitment_channel  \\\n",
              "770          26952          Analytics  region_13      m               other   \n",
              "5419         68849  Sales & Marketing  region_22      f            sourcing   \n",
              "36583        49809         Operations   region_7      f               other   \n",
              "51379         8384                 HR  region_20      f               other   \n",
              "23322        35781                 HR  region_13      m               other   \n",
              "\n",
              "       no_of_trainings  age  previous_year_rating  length_of_service  \\\n",
              "770                  1   34                   2.0                  6   \n",
              "5419                 1   36                   3.0                  5   \n",
              "36583                1   32                   3.0                  7   \n",
              "51379                1   35                   3.0                  5   \n",
              "23322                1   39                   3.0                 11   \n",
              "\n",
              "       KPIs_met >80%  awards_won?  avg_training_score  Bachelor's  \\\n",
              "770                0            0                  86           0   \n",
              "5419               0            0                  47           1   \n",
              "36583              0            0                  59           1   \n",
              "51379              0            0                  51           0   \n",
              "23322              0            0                  49           1   \n",
              "\n",
              "       Below Secondary  Master's & above  \n",
              "770                  0                 1  \n",
              "5419                 0                 0  \n",
              "36583                0                 0  \n",
              "51379                0                 1  \n",
              "23322                0                 0  "
            ],
            "text/html": [
              "\n",
              "  <div id=\"df-0865ea0e-f357-4955-bbf8-f84e90057898\">\n",
              "    <div class=\"colab-df-container\">\n",
              "      <div>\n",
              "<style scoped>\n",
              "    .dataframe tbody tr th:only-of-type {\n",
              "        vertical-align: middle;\n",
              "    }\n",
              "\n",
              "    .dataframe tbody tr th {\n",
              "        vertical-align: top;\n",
              "    }\n",
              "\n",
              "    .dataframe thead th {\n",
              "        text-align: right;\n",
              "    }\n",
              "</style>\n",
              "<table border=\"1\" class=\"dataframe\">\n",
              "  <thead>\n",
              "    <tr style=\"text-align: right;\">\n",
              "      <th></th>\n",
              "      <th>employee_id</th>\n",
              "      <th>department</th>\n",
              "      <th>region</th>\n",
              "      <th>gender</th>\n",
              "      <th>recruitment_channel</th>\n",
              "      <th>no_of_trainings</th>\n",
              "      <th>age</th>\n",
              "      <th>previous_year_rating</th>\n",
              "      <th>length_of_service</th>\n",
              "      <th>KPIs_met &gt;80%</th>\n",
              "      <th>awards_won?</th>\n",
              "      <th>avg_training_score</th>\n",
              "      <th>Bachelor's</th>\n",
              "      <th>Below Secondary</th>\n",
              "      <th>Master's &amp; above</th>\n",
              "    </tr>\n",
              "  </thead>\n",
              "  <tbody>\n",
              "    <tr>\n",
              "      <th>770</th>\n",
              "      <td>26952</td>\n",
              "      <td>Analytics</td>\n",
              "      <td>region_13</td>\n",
              "      <td>m</td>\n",
              "      <td>other</td>\n",
              "      <td>1</td>\n",
              "      <td>34</td>\n",
              "      <td>2.0</td>\n",
              "      <td>6</td>\n",
              "      <td>0</td>\n",
              "      <td>0</td>\n",
              "      <td>86</td>\n",
              "      <td>0</td>\n",
              "      <td>0</td>\n",
              "      <td>1</td>\n",
              "    </tr>\n",
              "    <tr>\n",
              "      <th>5419</th>\n",
              "      <td>68849</td>\n",
              "      <td>Sales &amp; Marketing</td>\n",
              "      <td>region_22</td>\n",
              "      <td>f</td>\n",
              "      <td>sourcing</td>\n",
              "      <td>1</td>\n",
              "      <td>36</td>\n",
              "      <td>3.0</td>\n",
              "      <td>5</td>\n",
              "      <td>0</td>\n",
              "      <td>0</td>\n",
              "      <td>47</td>\n",
              "      <td>1</td>\n",
              "      <td>0</td>\n",
              "      <td>0</td>\n",
              "    </tr>\n",
              "    <tr>\n",
              "      <th>36583</th>\n",
              "      <td>49809</td>\n",
              "      <td>Operations</td>\n",
              "      <td>region_7</td>\n",
              "      <td>f</td>\n",
              "      <td>other</td>\n",
              "      <td>1</td>\n",
              "      <td>32</td>\n",
              "      <td>3.0</td>\n",
              "      <td>7</td>\n",
              "      <td>0</td>\n",
              "      <td>0</td>\n",
              "      <td>59</td>\n",
              "      <td>1</td>\n",
              "      <td>0</td>\n",
              "      <td>0</td>\n",
              "    </tr>\n",
              "    <tr>\n",
              "      <th>51379</th>\n",
              "      <td>8384</td>\n",
              "      <td>HR</td>\n",
              "      <td>region_20</td>\n",
              "      <td>f</td>\n",
              "      <td>other</td>\n",
              "      <td>1</td>\n",
              "      <td>35</td>\n",
              "      <td>3.0</td>\n",
              "      <td>5</td>\n",
              "      <td>0</td>\n",
              "      <td>0</td>\n",
              "      <td>51</td>\n",
              "      <td>0</td>\n",
              "      <td>0</td>\n",
              "      <td>1</td>\n",
              "    </tr>\n",
              "    <tr>\n",
              "      <th>23322</th>\n",
              "      <td>35781</td>\n",
              "      <td>HR</td>\n",
              "      <td>region_13</td>\n",
              "      <td>m</td>\n",
              "      <td>other</td>\n",
              "      <td>1</td>\n",
              "      <td>39</td>\n",
              "      <td>3.0</td>\n",
              "      <td>11</td>\n",
              "      <td>0</td>\n",
              "      <td>0</td>\n",
              "      <td>49</td>\n",
              "      <td>1</td>\n",
              "      <td>0</td>\n",
              "      <td>0</td>\n",
              "    </tr>\n",
              "  </tbody>\n",
              "</table>\n",
              "</div>\n",
              "      <button class=\"colab-df-convert\" onclick=\"convertToInteractive('df-0865ea0e-f357-4955-bbf8-f84e90057898')\"\n",
              "              title=\"Convert this dataframe to an interactive table.\"\n",
              "              style=\"display:none;\">\n",
              "        \n",
              "  <svg xmlns=\"http://www.w3.org/2000/svg\" height=\"24px\"viewBox=\"0 0 24 24\"\n",
              "       width=\"24px\">\n",
              "    <path d=\"M0 0h24v24H0V0z\" fill=\"none\"/>\n",
              "    <path d=\"M18.56 5.44l.94 2.06.94-2.06 2.06-.94-2.06-.94-.94-2.06-.94 2.06-2.06.94zm-11 1L8.5 8.5l.94-2.06 2.06-.94-2.06-.94L8.5 2.5l-.94 2.06-2.06.94zm10 10l.94 2.06.94-2.06 2.06-.94-2.06-.94-.94-2.06-.94 2.06-2.06.94z\"/><path d=\"M17.41 7.96l-1.37-1.37c-.4-.4-.92-.59-1.43-.59-.52 0-1.04.2-1.43.59L10.3 9.45l-7.72 7.72c-.78.78-.78 2.05 0 2.83L4 21.41c.39.39.9.59 1.41.59.51 0 1.02-.2 1.41-.59l7.78-7.78 2.81-2.81c.8-.78.8-2.07 0-2.86zM5.41 20L4 18.59l7.72-7.72 1.47 1.35L5.41 20z\"/>\n",
              "  </svg>\n",
              "      </button>\n",
              "      \n",
              "  <style>\n",
              "    .colab-df-container {\n",
              "      display:flex;\n",
              "      flex-wrap:wrap;\n",
              "      gap: 12px;\n",
              "    }\n",
              "\n",
              "    .colab-df-convert {\n",
              "      background-color: #E8F0FE;\n",
              "      border: none;\n",
              "      border-radius: 50%;\n",
              "      cursor: pointer;\n",
              "      display: none;\n",
              "      fill: #1967D2;\n",
              "      height: 32px;\n",
              "      padding: 0 0 0 0;\n",
              "      width: 32px;\n",
              "    }\n",
              "\n",
              "    .colab-df-convert:hover {\n",
              "      background-color: #E2EBFA;\n",
              "      box-shadow: 0px 1px 2px rgba(60, 64, 67, 0.3), 0px 1px 3px 1px rgba(60, 64, 67, 0.15);\n",
              "      fill: #174EA6;\n",
              "    }\n",
              "\n",
              "    [theme=dark] .colab-df-convert {\n",
              "      background-color: #3B4455;\n",
              "      fill: #D2E3FC;\n",
              "    }\n",
              "\n",
              "    [theme=dark] .colab-df-convert:hover {\n",
              "      background-color: #434B5C;\n",
              "      box-shadow: 0px 1px 3px 1px rgba(0, 0, 0, 0.15);\n",
              "      filter: drop-shadow(0px 1px 2px rgba(0, 0, 0, 0.3));\n",
              "      fill: #FFFFFF;\n",
              "    }\n",
              "  </style>\n",
              "\n",
              "      <script>\n",
              "        const buttonEl =\n",
              "          document.querySelector('#df-0865ea0e-f357-4955-bbf8-f84e90057898 button.colab-df-convert');\n",
              "        buttonEl.style.display =\n",
              "          google.colab.kernel.accessAllowed ? 'block' : 'none';\n",
              "\n",
              "        async function convertToInteractive(key) {\n",
              "          const element = document.querySelector('#df-0865ea0e-f357-4955-bbf8-f84e90057898');\n",
              "          const dataTable =\n",
              "            await google.colab.kernel.invokeFunction('convertToInteractive',\n",
              "                                                     [key], {});\n",
              "          if (!dataTable) return;\n",
              "\n",
              "          const docLinkHtml = 'Like what you see? Visit the ' +\n",
              "            '<a target=\"_blank\" href=https://colab.research.google.com/notebooks/data_table.ipynb>data table notebook</a>'\n",
              "            + ' to learn more about interactive tables.';\n",
              "          element.innerHTML = '';\n",
              "          dataTable['output_type'] = 'display_data';\n",
              "          await google.colab.output.renderOutput(dataTable, element);\n",
              "          const docLink = document.createElement('div');\n",
              "          docLink.innerHTML = docLinkHtml;\n",
              "          element.appendChild(docLink);\n",
              "        }\n",
              "      </script>\n",
              "    </div>\n",
              "  </div>\n",
              "  "
            ]
          },
          "metadata": {},
          "execution_count": 42
        }
      ]
    },
    {
      "cell_type": "code",
      "source": [
        "# ONE HOT ENCODING \"gender\" column across all datasets\n",
        "\n",
        "\n",
        "dummy1=pd.get_dummies(x_train['gender'])\n",
        "x_train=x_train.join(dummy1)\n",
        "\n",
        "dummy2=pd.get_dummies(x_val1['gender'])\n",
        "x_val1=x_val1.join(dummy2)\n",
        "\n",
        "dummy3=pd.get_dummies(x_val2['gender'])\n",
        "x_val2=x_val2.join(dummy3)\n",
        "\n",
        "dummy4=pd.get_dummies(x_test['gender'])\n",
        "x_test=x_test.join(dummy4)"
      ],
      "metadata": {
        "execution": {
          "iopub.status.busy": "2023-04-23T16:01:19.285375Z",
          "iopub.execute_input": "2023-04-23T16:01:19.285837Z",
          "iopub.status.idle": "2023-04-23T16:01:19.318112Z",
          "shell.execute_reply.started": "2023-04-23T16:01:19.285793Z",
          "shell.execute_reply": "2023-04-23T16:01:19.316963Z"
        },
        "trusted": true,
        "id": "Q4g3PrMN9HzQ"
      },
      "execution_count": null,
      "outputs": []
    },
    {
      "cell_type": "code",
      "source": [
        "# Gender has been encoded so we can drop it\n",
        "\n",
        "x_train.drop('gender',axis=1,inplace=True)\n",
        "x_val1.drop('gender',axis=1,inplace=True)\n",
        "x_val2.drop('gender',axis=1,inplace=True)\n",
        "x_test.drop('gender',axis=1,inplace=True)\n"
      ],
      "metadata": {
        "execution": {
          "iopub.status.busy": "2023-04-23T16:01:19.319845Z",
          "iopub.execute_input": "2023-04-23T16:01:19.320297Z",
          "iopub.status.idle": "2023-04-23T16:01:19.341143Z",
          "shell.execute_reply.started": "2023-04-23T16:01:19.320249Z",
          "shell.execute_reply": "2023-04-23T16:01:19.339936Z"
        },
        "trusted": true,
        "id": "gLTnepAw9HzQ"
      },
      "execution_count": null,
      "outputs": []
    },
    {
      "cell_type": "code",
      "source": [
        "x_train.head()\n",
        "#x_val1.head()\n",
        "#x_val2.head()"
      ],
      "metadata": {
        "execution": {
          "iopub.status.busy": "2023-04-23T16:01:19.342689Z",
          "iopub.execute_input": "2023-04-23T16:01:19.343017Z",
          "iopub.status.idle": "2023-04-23T16:01:19.363833Z",
          "shell.execute_reply.started": "2023-04-23T16:01:19.342985Z",
          "shell.execute_reply": "2023-04-23T16:01:19.362592Z"
        },
        "trusted": true,
        "id": "ctaVW3n-9HzQ",
        "outputId": "9f32615b-64a5-48f2-fea4-cdf4d1483c28",
        "colab": {
          "base_uri": "https://localhost:8080/",
          "height": 305
        }
      },
      "execution_count": null,
      "outputs": [
        {
          "output_type": "execute_result",
          "data": {
            "text/plain": [
              "       employee_id         department     region recruitment_channel  \\\n",
              "770          26952          Analytics  region_13               other   \n",
              "5419         68849  Sales & Marketing  region_22            sourcing   \n",
              "36583        49809         Operations   region_7               other   \n",
              "51379         8384                 HR  region_20               other   \n",
              "23322        35781                 HR  region_13               other   \n",
              "\n",
              "       no_of_trainings  age  previous_year_rating  length_of_service  \\\n",
              "770                  1   34                   2.0                  6   \n",
              "5419                 1   36                   3.0                  5   \n",
              "36583                1   32                   3.0                  7   \n",
              "51379                1   35                   3.0                  5   \n",
              "23322                1   39                   3.0                 11   \n",
              "\n",
              "       KPIs_met >80%  awards_won?  avg_training_score  Bachelor's  \\\n",
              "770                0            0                  86           0   \n",
              "5419               0            0                  47           1   \n",
              "36583              0            0                  59           1   \n",
              "51379              0            0                  51           0   \n",
              "23322              0            0                  49           1   \n",
              "\n",
              "       Below Secondary  Master's & above  f  m  \n",
              "770                  0                 1  0  1  \n",
              "5419                 0                 0  1  0  \n",
              "36583                0                 0  1  0  \n",
              "51379                0                 1  1  0  \n",
              "23322                0                 0  0  1  "
            ],
            "text/html": [
              "\n",
              "  <div id=\"df-ebc34b9b-9a13-4c18-be9c-03cdce689fe0\">\n",
              "    <div class=\"colab-df-container\">\n",
              "      <div>\n",
              "<style scoped>\n",
              "    .dataframe tbody tr th:only-of-type {\n",
              "        vertical-align: middle;\n",
              "    }\n",
              "\n",
              "    .dataframe tbody tr th {\n",
              "        vertical-align: top;\n",
              "    }\n",
              "\n",
              "    .dataframe thead th {\n",
              "        text-align: right;\n",
              "    }\n",
              "</style>\n",
              "<table border=\"1\" class=\"dataframe\">\n",
              "  <thead>\n",
              "    <tr style=\"text-align: right;\">\n",
              "      <th></th>\n",
              "      <th>employee_id</th>\n",
              "      <th>department</th>\n",
              "      <th>region</th>\n",
              "      <th>recruitment_channel</th>\n",
              "      <th>no_of_trainings</th>\n",
              "      <th>age</th>\n",
              "      <th>previous_year_rating</th>\n",
              "      <th>length_of_service</th>\n",
              "      <th>KPIs_met &gt;80%</th>\n",
              "      <th>awards_won?</th>\n",
              "      <th>avg_training_score</th>\n",
              "      <th>Bachelor's</th>\n",
              "      <th>Below Secondary</th>\n",
              "      <th>Master's &amp; above</th>\n",
              "      <th>f</th>\n",
              "      <th>m</th>\n",
              "    </tr>\n",
              "  </thead>\n",
              "  <tbody>\n",
              "    <tr>\n",
              "      <th>770</th>\n",
              "      <td>26952</td>\n",
              "      <td>Analytics</td>\n",
              "      <td>region_13</td>\n",
              "      <td>other</td>\n",
              "      <td>1</td>\n",
              "      <td>34</td>\n",
              "      <td>2.0</td>\n",
              "      <td>6</td>\n",
              "      <td>0</td>\n",
              "      <td>0</td>\n",
              "      <td>86</td>\n",
              "      <td>0</td>\n",
              "      <td>0</td>\n",
              "      <td>1</td>\n",
              "      <td>0</td>\n",
              "      <td>1</td>\n",
              "    </tr>\n",
              "    <tr>\n",
              "      <th>5419</th>\n",
              "      <td>68849</td>\n",
              "      <td>Sales &amp; Marketing</td>\n",
              "      <td>region_22</td>\n",
              "      <td>sourcing</td>\n",
              "      <td>1</td>\n",
              "      <td>36</td>\n",
              "      <td>3.0</td>\n",
              "      <td>5</td>\n",
              "      <td>0</td>\n",
              "      <td>0</td>\n",
              "      <td>47</td>\n",
              "      <td>1</td>\n",
              "      <td>0</td>\n",
              "      <td>0</td>\n",
              "      <td>1</td>\n",
              "      <td>0</td>\n",
              "    </tr>\n",
              "    <tr>\n",
              "      <th>36583</th>\n",
              "      <td>49809</td>\n",
              "      <td>Operations</td>\n",
              "      <td>region_7</td>\n",
              "      <td>other</td>\n",
              "      <td>1</td>\n",
              "      <td>32</td>\n",
              "      <td>3.0</td>\n",
              "      <td>7</td>\n",
              "      <td>0</td>\n",
              "      <td>0</td>\n",
              "      <td>59</td>\n",
              "      <td>1</td>\n",
              "      <td>0</td>\n",
              "      <td>0</td>\n",
              "      <td>1</td>\n",
              "      <td>0</td>\n",
              "    </tr>\n",
              "    <tr>\n",
              "      <th>51379</th>\n",
              "      <td>8384</td>\n",
              "      <td>HR</td>\n",
              "      <td>region_20</td>\n",
              "      <td>other</td>\n",
              "      <td>1</td>\n",
              "      <td>35</td>\n",
              "      <td>3.0</td>\n",
              "      <td>5</td>\n",
              "      <td>0</td>\n",
              "      <td>0</td>\n",
              "      <td>51</td>\n",
              "      <td>0</td>\n",
              "      <td>0</td>\n",
              "      <td>1</td>\n",
              "      <td>1</td>\n",
              "      <td>0</td>\n",
              "    </tr>\n",
              "    <tr>\n",
              "      <th>23322</th>\n",
              "      <td>35781</td>\n",
              "      <td>HR</td>\n",
              "      <td>region_13</td>\n",
              "      <td>other</td>\n",
              "      <td>1</td>\n",
              "      <td>39</td>\n",
              "      <td>3.0</td>\n",
              "      <td>11</td>\n",
              "      <td>0</td>\n",
              "      <td>0</td>\n",
              "      <td>49</td>\n",
              "      <td>1</td>\n",
              "      <td>0</td>\n",
              "      <td>0</td>\n",
              "      <td>0</td>\n",
              "      <td>1</td>\n",
              "    </tr>\n",
              "  </tbody>\n",
              "</table>\n",
              "</div>\n",
              "      <button class=\"colab-df-convert\" onclick=\"convertToInteractive('df-ebc34b9b-9a13-4c18-be9c-03cdce689fe0')\"\n",
              "              title=\"Convert this dataframe to an interactive table.\"\n",
              "              style=\"display:none;\">\n",
              "        \n",
              "  <svg xmlns=\"http://www.w3.org/2000/svg\" height=\"24px\"viewBox=\"0 0 24 24\"\n",
              "       width=\"24px\">\n",
              "    <path d=\"M0 0h24v24H0V0z\" fill=\"none\"/>\n",
              "    <path d=\"M18.56 5.44l.94 2.06.94-2.06 2.06-.94-2.06-.94-.94-2.06-.94 2.06-2.06.94zm-11 1L8.5 8.5l.94-2.06 2.06-.94-2.06-.94L8.5 2.5l-.94 2.06-2.06.94zm10 10l.94 2.06.94-2.06 2.06-.94-2.06-.94-.94-2.06-.94 2.06-2.06.94z\"/><path d=\"M17.41 7.96l-1.37-1.37c-.4-.4-.92-.59-1.43-.59-.52 0-1.04.2-1.43.59L10.3 9.45l-7.72 7.72c-.78.78-.78 2.05 0 2.83L4 21.41c.39.39.9.59 1.41.59.51 0 1.02-.2 1.41-.59l7.78-7.78 2.81-2.81c.8-.78.8-2.07 0-2.86zM5.41 20L4 18.59l7.72-7.72 1.47 1.35L5.41 20z\"/>\n",
              "  </svg>\n",
              "      </button>\n",
              "      \n",
              "  <style>\n",
              "    .colab-df-container {\n",
              "      display:flex;\n",
              "      flex-wrap:wrap;\n",
              "      gap: 12px;\n",
              "    }\n",
              "\n",
              "    .colab-df-convert {\n",
              "      background-color: #E8F0FE;\n",
              "      border: none;\n",
              "      border-radius: 50%;\n",
              "      cursor: pointer;\n",
              "      display: none;\n",
              "      fill: #1967D2;\n",
              "      height: 32px;\n",
              "      padding: 0 0 0 0;\n",
              "      width: 32px;\n",
              "    }\n",
              "\n",
              "    .colab-df-convert:hover {\n",
              "      background-color: #E2EBFA;\n",
              "      box-shadow: 0px 1px 2px rgba(60, 64, 67, 0.3), 0px 1px 3px 1px rgba(60, 64, 67, 0.15);\n",
              "      fill: #174EA6;\n",
              "    }\n",
              "\n",
              "    [theme=dark] .colab-df-convert {\n",
              "      background-color: #3B4455;\n",
              "      fill: #D2E3FC;\n",
              "    }\n",
              "\n",
              "    [theme=dark] .colab-df-convert:hover {\n",
              "      background-color: #434B5C;\n",
              "      box-shadow: 0px 1px 3px 1px rgba(0, 0, 0, 0.15);\n",
              "      filter: drop-shadow(0px 1px 2px rgba(0, 0, 0, 0.3));\n",
              "      fill: #FFFFFF;\n",
              "    }\n",
              "  </style>\n",
              "\n",
              "      <script>\n",
              "        const buttonEl =\n",
              "          document.querySelector('#df-ebc34b9b-9a13-4c18-be9c-03cdce689fe0 button.colab-df-convert');\n",
              "        buttonEl.style.display =\n",
              "          google.colab.kernel.accessAllowed ? 'block' : 'none';\n",
              "\n",
              "        async function convertToInteractive(key) {\n",
              "          const element = document.querySelector('#df-ebc34b9b-9a13-4c18-be9c-03cdce689fe0');\n",
              "          const dataTable =\n",
              "            await google.colab.kernel.invokeFunction('convertToInteractive',\n",
              "                                                     [key], {});\n",
              "          if (!dataTable) return;\n",
              "\n",
              "          const docLinkHtml = 'Like what you see? Visit the ' +\n",
              "            '<a target=\"_blank\" href=https://colab.research.google.com/notebooks/data_table.ipynb>data table notebook</a>'\n",
              "            + ' to learn more about interactive tables.';\n",
              "          element.innerHTML = '';\n",
              "          dataTable['output_type'] = 'display_data';\n",
              "          await google.colab.output.renderOutput(dataTable, element);\n",
              "          const docLink = document.createElement('div');\n",
              "          docLink.innerHTML = docLinkHtml;\n",
              "          element.appendChild(docLink);\n",
              "        }\n",
              "      </script>\n",
              "    </div>\n",
              "  </div>\n",
              "  "
            ]
          },
          "metadata": {},
          "execution_count": 45
        }
      ]
    },
    {
      "cell_type": "code",
      "source": [
        "# ONE HOT ENCODING \"recruitment_channel\" column across all datasets\n",
        "\n",
        "\n",
        "dummy1=pd.get_dummies(x_train['recruitment_channel'])\n",
        "x_train=x_train.join(dummy1)\n",
        "\n",
        "dummy2=pd.get_dummies(x_val1['recruitment_channel'])\n",
        "x_val1=x_val1.join(dummy2)\n",
        "\n",
        "dummy3=pd.get_dummies(x_val2['recruitment_channel'])\n",
        "x_val2=x_val2.join(dummy3)\n",
        "\n",
        "dummy4=pd.get_dummies(x_test['recruitment_channel'])\n",
        "x_test=x_test.join(dummy4)"
      ],
      "metadata": {
        "execution": {
          "iopub.status.busy": "2023-04-23T16:01:19.365444Z",
          "iopub.execute_input": "2023-04-23T16:01:19.365879Z",
          "iopub.status.idle": "2023-04-23T16:01:19.396921Z",
          "shell.execute_reply.started": "2023-04-23T16:01:19.365832Z",
          "shell.execute_reply": "2023-04-23T16:01:19.395808Z"
        },
        "trusted": true,
        "id": "Pog0CicP9HzQ"
      },
      "execution_count": null,
      "outputs": []
    },
    {
      "cell_type": "code",
      "source": [
        "# Recruitment Channel has been encoded so we can drop it\n",
        "\n",
        "x_train.drop('recruitment_channel',axis=1,inplace=True)\n",
        "x_val1.drop('recruitment_channel',axis=1,inplace=True)\n",
        "x_val2.drop('recruitment_channel',axis=1,inplace=True)\n",
        "x_test.drop('recruitment_channel',axis=1,inplace=True)\n"
      ],
      "metadata": {
        "execution": {
          "iopub.status.busy": "2023-04-23T16:01:19.398310Z",
          "iopub.execute_input": "2023-04-23T16:01:19.398723Z",
          "iopub.status.idle": "2023-04-23T16:01:19.419490Z",
          "shell.execute_reply.started": "2023-04-23T16:01:19.398686Z",
          "shell.execute_reply": "2023-04-23T16:01:19.418371Z"
        },
        "trusted": true,
        "id": "9V8xB6pJ9HzQ"
      },
      "execution_count": null,
      "outputs": []
    },
    {
      "cell_type": "code",
      "source": [
        "x_train.head()"
      ],
      "metadata": {
        "execution": {
          "iopub.status.busy": "2023-04-23T16:01:19.516879Z",
          "iopub.execute_input": "2023-04-23T16:01:19.517217Z",
          "iopub.status.idle": "2023-04-23T16:01:19.539102Z",
          "shell.execute_reply.started": "2023-04-23T16:01:19.517185Z",
          "shell.execute_reply": "2023-04-23T16:01:19.538030Z"
        },
        "trusted": true,
        "id": "ct--RO-99HzR",
        "outputId": "678d2830-ccc3-4fc8-9884-92481ba585c9",
        "colab": {
          "base_uri": "https://localhost:8080/",
          "height": 305
        }
      },
      "execution_count": null,
      "outputs": [
        {
          "output_type": "execute_result",
          "data": {
            "text/plain": [
              "       employee_id         department     region  no_of_trainings  age  \\\n",
              "770          26952          Analytics  region_13                1   34   \n",
              "5419         68849  Sales & Marketing  region_22                1   36   \n",
              "36583        49809         Operations   region_7                1   32   \n",
              "51379         8384                 HR  region_20                1   35   \n",
              "23322        35781                 HR  region_13                1   39   \n",
              "\n",
              "       previous_year_rating  length_of_service  KPIs_met >80%  awards_won?  \\\n",
              "770                     2.0                  6              0            0   \n",
              "5419                    3.0                  5              0            0   \n",
              "36583                   3.0                  7              0            0   \n",
              "51379                   3.0                  5              0            0   \n",
              "23322                   3.0                 11              0            0   \n",
              "\n",
              "       avg_training_score  Bachelor's  Below Secondary  Master's & above  f  \\\n",
              "770                    86           0                0                 1  0   \n",
              "5419                   47           1                0                 0  1   \n",
              "36583                  59           1                0                 0  1   \n",
              "51379                  51           0                0                 1  1   \n",
              "23322                  49           1                0                 0  0   \n",
              "\n",
              "       m  other  referred  sourcing  \n",
              "770    1      1         0         0  \n",
              "5419   0      0         0         1  \n",
              "36583  0      1         0         0  \n",
              "51379  0      1         0         0  \n",
              "23322  1      1         0         0  "
            ],
            "text/html": [
              "\n",
              "  <div id=\"df-2d1f40d0-1c32-4ad5-9cc5-5e47bdd6c8dc\">\n",
              "    <div class=\"colab-df-container\">\n",
              "      <div>\n",
              "<style scoped>\n",
              "    .dataframe tbody tr th:only-of-type {\n",
              "        vertical-align: middle;\n",
              "    }\n",
              "\n",
              "    .dataframe tbody tr th {\n",
              "        vertical-align: top;\n",
              "    }\n",
              "\n",
              "    .dataframe thead th {\n",
              "        text-align: right;\n",
              "    }\n",
              "</style>\n",
              "<table border=\"1\" class=\"dataframe\">\n",
              "  <thead>\n",
              "    <tr style=\"text-align: right;\">\n",
              "      <th></th>\n",
              "      <th>employee_id</th>\n",
              "      <th>department</th>\n",
              "      <th>region</th>\n",
              "      <th>no_of_trainings</th>\n",
              "      <th>age</th>\n",
              "      <th>previous_year_rating</th>\n",
              "      <th>length_of_service</th>\n",
              "      <th>KPIs_met &gt;80%</th>\n",
              "      <th>awards_won?</th>\n",
              "      <th>avg_training_score</th>\n",
              "      <th>Bachelor's</th>\n",
              "      <th>Below Secondary</th>\n",
              "      <th>Master's &amp; above</th>\n",
              "      <th>f</th>\n",
              "      <th>m</th>\n",
              "      <th>other</th>\n",
              "      <th>referred</th>\n",
              "      <th>sourcing</th>\n",
              "    </tr>\n",
              "  </thead>\n",
              "  <tbody>\n",
              "    <tr>\n",
              "      <th>770</th>\n",
              "      <td>26952</td>\n",
              "      <td>Analytics</td>\n",
              "      <td>region_13</td>\n",
              "      <td>1</td>\n",
              "      <td>34</td>\n",
              "      <td>2.0</td>\n",
              "      <td>6</td>\n",
              "      <td>0</td>\n",
              "      <td>0</td>\n",
              "      <td>86</td>\n",
              "      <td>0</td>\n",
              "      <td>0</td>\n",
              "      <td>1</td>\n",
              "      <td>0</td>\n",
              "      <td>1</td>\n",
              "      <td>1</td>\n",
              "      <td>0</td>\n",
              "      <td>0</td>\n",
              "    </tr>\n",
              "    <tr>\n",
              "      <th>5419</th>\n",
              "      <td>68849</td>\n",
              "      <td>Sales &amp; Marketing</td>\n",
              "      <td>region_22</td>\n",
              "      <td>1</td>\n",
              "      <td>36</td>\n",
              "      <td>3.0</td>\n",
              "      <td>5</td>\n",
              "      <td>0</td>\n",
              "      <td>0</td>\n",
              "      <td>47</td>\n",
              "      <td>1</td>\n",
              "      <td>0</td>\n",
              "      <td>0</td>\n",
              "      <td>1</td>\n",
              "      <td>0</td>\n",
              "      <td>0</td>\n",
              "      <td>0</td>\n",
              "      <td>1</td>\n",
              "    </tr>\n",
              "    <tr>\n",
              "      <th>36583</th>\n",
              "      <td>49809</td>\n",
              "      <td>Operations</td>\n",
              "      <td>region_7</td>\n",
              "      <td>1</td>\n",
              "      <td>32</td>\n",
              "      <td>3.0</td>\n",
              "      <td>7</td>\n",
              "      <td>0</td>\n",
              "      <td>0</td>\n",
              "      <td>59</td>\n",
              "      <td>1</td>\n",
              "      <td>0</td>\n",
              "      <td>0</td>\n",
              "      <td>1</td>\n",
              "      <td>0</td>\n",
              "      <td>1</td>\n",
              "      <td>0</td>\n",
              "      <td>0</td>\n",
              "    </tr>\n",
              "    <tr>\n",
              "      <th>51379</th>\n",
              "      <td>8384</td>\n",
              "      <td>HR</td>\n",
              "      <td>region_20</td>\n",
              "      <td>1</td>\n",
              "      <td>35</td>\n",
              "      <td>3.0</td>\n",
              "      <td>5</td>\n",
              "      <td>0</td>\n",
              "      <td>0</td>\n",
              "      <td>51</td>\n",
              "      <td>0</td>\n",
              "      <td>0</td>\n",
              "      <td>1</td>\n",
              "      <td>1</td>\n",
              "      <td>0</td>\n",
              "      <td>1</td>\n",
              "      <td>0</td>\n",
              "      <td>0</td>\n",
              "    </tr>\n",
              "    <tr>\n",
              "      <th>23322</th>\n",
              "      <td>35781</td>\n",
              "      <td>HR</td>\n",
              "      <td>region_13</td>\n",
              "      <td>1</td>\n",
              "      <td>39</td>\n",
              "      <td>3.0</td>\n",
              "      <td>11</td>\n",
              "      <td>0</td>\n",
              "      <td>0</td>\n",
              "      <td>49</td>\n",
              "      <td>1</td>\n",
              "      <td>0</td>\n",
              "      <td>0</td>\n",
              "      <td>0</td>\n",
              "      <td>1</td>\n",
              "      <td>1</td>\n",
              "      <td>0</td>\n",
              "      <td>0</td>\n",
              "    </tr>\n",
              "  </tbody>\n",
              "</table>\n",
              "</div>\n",
              "      <button class=\"colab-df-convert\" onclick=\"convertToInteractive('df-2d1f40d0-1c32-4ad5-9cc5-5e47bdd6c8dc')\"\n",
              "              title=\"Convert this dataframe to an interactive table.\"\n",
              "              style=\"display:none;\">\n",
              "        \n",
              "  <svg xmlns=\"http://www.w3.org/2000/svg\" height=\"24px\"viewBox=\"0 0 24 24\"\n",
              "       width=\"24px\">\n",
              "    <path d=\"M0 0h24v24H0V0z\" fill=\"none\"/>\n",
              "    <path d=\"M18.56 5.44l.94 2.06.94-2.06 2.06-.94-2.06-.94-.94-2.06-.94 2.06-2.06.94zm-11 1L8.5 8.5l.94-2.06 2.06-.94-2.06-.94L8.5 2.5l-.94 2.06-2.06.94zm10 10l.94 2.06.94-2.06 2.06-.94-2.06-.94-.94-2.06-.94 2.06-2.06.94z\"/><path d=\"M17.41 7.96l-1.37-1.37c-.4-.4-.92-.59-1.43-.59-.52 0-1.04.2-1.43.59L10.3 9.45l-7.72 7.72c-.78.78-.78 2.05 0 2.83L4 21.41c.39.39.9.59 1.41.59.51 0 1.02-.2 1.41-.59l7.78-7.78 2.81-2.81c.8-.78.8-2.07 0-2.86zM5.41 20L4 18.59l7.72-7.72 1.47 1.35L5.41 20z\"/>\n",
              "  </svg>\n",
              "      </button>\n",
              "      \n",
              "  <style>\n",
              "    .colab-df-container {\n",
              "      display:flex;\n",
              "      flex-wrap:wrap;\n",
              "      gap: 12px;\n",
              "    }\n",
              "\n",
              "    .colab-df-convert {\n",
              "      background-color: #E8F0FE;\n",
              "      border: none;\n",
              "      border-radius: 50%;\n",
              "      cursor: pointer;\n",
              "      display: none;\n",
              "      fill: #1967D2;\n",
              "      height: 32px;\n",
              "      padding: 0 0 0 0;\n",
              "      width: 32px;\n",
              "    }\n",
              "\n",
              "    .colab-df-convert:hover {\n",
              "      background-color: #E2EBFA;\n",
              "      box-shadow: 0px 1px 2px rgba(60, 64, 67, 0.3), 0px 1px 3px 1px rgba(60, 64, 67, 0.15);\n",
              "      fill: #174EA6;\n",
              "    }\n",
              "\n",
              "    [theme=dark] .colab-df-convert {\n",
              "      background-color: #3B4455;\n",
              "      fill: #D2E3FC;\n",
              "    }\n",
              "\n",
              "    [theme=dark] .colab-df-convert:hover {\n",
              "      background-color: #434B5C;\n",
              "      box-shadow: 0px 1px 3px 1px rgba(0, 0, 0, 0.15);\n",
              "      filter: drop-shadow(0px 1px 2px rgba(0, 0, 0, 0.3));\n",
              "      fill: #FFFFFF;\n",
              "    }\n",
              "  </style>\n",
              "\n",
              "      <script>\n",
              "        const buttonEl =\n",
              "          document.querySelector('#df-2d1f40d0-1c32-4ad5-9cc5-5e47bdd6c8dc button.colab-df-convert');\n",
              "        buttonEl.style.display =\n",
              "          google.colab.kernel.accessAllowed ? 'block' : 'none';\n",
              "\n",
              "        async function convertToInteractive(key) {\n",
              "          const element = document.querySelector('#df-2d1f40d0-1c32-4ad5-9cc5-5e47bdd6c8dc');\n",
              "          const dataTable =\n",
              "            await google.colab.kernel.invokeFunction('convertToInteractive',\n",
              "                                                     [key], {});\n",
              "          if (!dataTable) return;\n",
              "\n",
              "          const docLinkHtml = 'Like what you see? Visit the ' +\n",
              "            '<a target=\"_blank\" href=https://colab.research.google.com/notebooks/data_table.ipynb>data table notebook</a>'\n",
              "            + ' to learn more about interactive tables.';\n",
              "          element.innerHTML = '';\n",
              "          dataTable['output_type'] = 'display_data';\n",
              "          await google.colab.output.renderOutput(dataTable, element);\n",
              "          const docLink = document.createElement('div');\n",
              "          docLink.innerHTML = docLinkHtml;\n",
              "          element.appendChild(docLink);\n",
              "        }\n",
              "      </script>\n",
              "    </div>\n",
              "  </div>\n",
              "  "
            ]
          },
          "metadata": {},
          "execution_count": 48
        }
      ]
    },
    {
      "cell_type": "code",
      "source": [
        "#Target Encoding Region\n",
        "x_train['target'] = y_train\n",
        "target_mapper = x_train.groupby('region')['target'].mean().to_dict()"
      ],
      "metadata": {
        "execution": {
          "iopub.status.busy": "2023-04-23T16:01:19.540480Z",
          "iopub.execute_input": "2023-04-23T16:01:19.541029Z",
          "iopub.status.idle": "2023-04-23T16:01:19.551853Z",
          "shell.execute_reply.started": "2023-04-23T16:01:19.540991Z",
          "shell.execute_reply": "2023-04-23T16:01:19.550690Z"
        },
        "trusted": true,
        "id": "bJIYjdQa9HzR"
      },
      "execution_count": null,
      "outputs": []
    },
    {
      "cell_type": "code",
      "source": [
        "x_train.drop('target',axis=1,inplace=True) #dropping temporary column"
      ],
      "metadata": {
        "execution": {
          "iopub.status.busy": "2023-04-23T16:01:19.575051Z",
          "iopub.execute_input": "2023-04-23T16:01:19.575825Z",
          "iopub.status.idle": "2023-04-23T16:01:19.590953Z",
          "shell.execute_reply.started": "2023-04-23T16:01:19.575627Z",
          "shell.execute_reply": "2023-04-23T16:01:19.590012Z"
        },
        "trusted": true,
        "id": "sg5Be4zN9HzS"
      },
      "execution_count": null,
      "outputs": []
    },
    {
      "cell_type": "code",
      "source": [
        "x_train.head()"
      ],
      "metadata": {
        "execution": {
          "iopub.status.busy": "2023-04-23T16:01:19.608606Z",
          "iopub.execute_input": "2023-04-23T16:01:19.608941Z",
          "iopub.status.idle": "2023-04-23T16:01:19.631113Z",
          "shell.execute_reply.started": "2023-04-23T16:01:19.608909Z",
          "shell.execute_reply": "2023-04-23T16:01:19.630008Z"
        },
        "trusted": true,
        "id": "vTyu-W409HzS",
        "outputId": "b5ae4f2a-c359-4f3d-b456-818b677a771e",
        "colab": {
          "base_uri": "https://localhost:8080/",
          "height": 305
        }
      },
      "execution_count": null,
      "outputs": [
        {
          "output_type": "execute_result",
          "data": {
            "text/plain": [
              "       employee_id         department     region  no_of_trainings  age  \\\n",
              "770          26952          Analytics  region_13                1   34   \n",
              "5419         68849  Sales & Marketing  region_22                1   36   \n",
              "36583        49809         Operations   region_7                1   32   \n",
              "51379         8384                 HR  region_20                1   35   \n",
              "23322        35781                 HR  region_13                1   39   \n",
              "\n",
              "       previous_year_rating  length_of_service  KPIs_met >80%  awards_won?  \\\n",
              "770                     2.0                  6              0            0   \n",
              "5419                    3.0                  5              0            0   \n",
              "36583                   3.0                  7              0            0   \n",
              "51379                   3.0                  5              0            0   \n",
              "23322                   3.0                 11              0            0   \n",
              "\n",
              "       avg_training_score  Bachelor's  Below Secondary  Master's & above  f  \\\n",
              "770                    86           0                0                 1  0   \n",
              "5419                   47           1                0                 0  1   \n",
              "36583                  59           1                0                 0  1   \n",
              "51379                  51           0                0                 1  1   \n",
              "23322                  49           1                0                 0  0   \n",
              "\n",
              "       m  other  referred  sourcing  \n",
              "770    1      1         0         0  \n",
              "5419   0      0         0         1  \n",
              "36583  0      1         0         0  \n",
              "51379  0      1         0         0  \n",
              "23322  1      1         0         0  "
            ],
            "text/html": [
              "\n",
              "  <div id=\"df-d10d8c34-9c23-4604-bf9d-f01de2ca3deb\">\n",
              "    <div class=\"colab-df-container\">\n",
              "      <div>\n",
              "<style scoped>\n",
              "    .dataframe tbody tr th:only-of-type {\n",
              "        vertical-align: middle;\n",
              "    }\n",
              "\n",
              "    .dataframe tbody tr th {\n",
              "        vertical-align: top;\n",
              "    }\n",
              "\n",
              "    .dataframe thead th {\n",
              "        text-align: right;\n",
              "    }\n",
              "</style>\n",
              "<table border=\"1\" class=\"dataframe\">\n",
              "  <thead>\n",
              "    <tr style=\"text-align: right;\">\n",
              "      <th></th>\n",
              "      <th>employee_id</th>\n",
              "      <th>department</th>\n",
              "      <th>region</th>\n",
              "      <th>no_of_trainings</th>\n",
              "      <th>age</th>\n",
              "      <th>previous_year_rating</th>\n",
              "      <th>length_of_service</th>\n",
              "      <th>KPIs_met &gt;80%</th>\n",
              "      <th>awards_won?</th>\n",
              "      <th>avg_training_score</th>\n",
              "      <th>Bachelor's</th>\n",
              "      <th>Below Secondary</th>\n",
              "      <th>Master's &amp; above</th>\n",
              "      <th>f</th>\n",
              "      <th>m</th>\n",
              "      <th>other</th>\n",
              "      <th>referred</th>\n",
              "      <th>sourcing</th>\n",
              "    </tr>\n",
              "  </thead>\n",
              "  <tbody>\n",
              "    <tr>\n",
              "      <th>770</th>\n",
              "      <td>26952</td>\n",
              "      <td>Analytics</td>\n",
              "      <td>region_13</td>\n",
              "      <td>1</td>\n",
              "      <td>34</td>\n",
              "      <td>2.0</td>\n",
              "      <td>6</td>\n",
              "      <td>0</td>\n",
              "      <td>0</td>\n",
              "      <td>86</td>\n",
              "      <td>0</td>\n",
              "      <td>0</td>\n",
              "      <td>1</td>\n",
              "      <td>0</td>\n",
              "      <td>1</td>\n",
              "      <td>1</td>\n",
              "      <td>0</td>\n",
              "      <td>0</td>\n",
              "    </tr>\n",
              "    <tr>\n",
              "      <th>5419</th>\n",
              "      <td>68849</td>\n",
              "      <td>Sales &amp; Marketing</td>\n",
              "      <td>region_22</td>\n",
              "      <td>1</td>\n",
              "      <td>36</td>\n",
              "      <td>3.0</td>\n",
              "      <td>5</td>\n",
              "      <td>0</td>\n",
              "      <td>0</td>\n",
              "      <td>47</td>\n",
              "      <td>1</td>\n",
              "      <td>0</td>\n",
              "      <td>0</td>\n",
              "      <td>1</td>\n",
              "      <td>0</td>\n",
              "      <td>0</td>\n",
              "      <td>0</td>\n",
              "      <td>1</td>\n",
              "    </tr>\n",
              "    <tr>\n",
              "      <th>36583</th>\n",
              "      <td>49809</td>\n",
              "      <td>Operations</td>\n",
              "      <td>region_7</td>\n",
              "      <td>1</td>\n",
              "      <td>32</td>\n",
              "      <td>3.0</td>\n",
              "      <td>7</td>\n",
              "      <td>0</td>\n",
              "      <td>0</td>\n",
              "      <td>59</td>\n",
              "      <td>1</td>\n",
              "      <td>0</td>\n",
              "      <td>0</td>\n",
              "      <td>1</td>\n",
              "      <td>0</td>\n",
              "      <td>1</td>\n",
              "      <td>0</td>\n",
              "      <td>0</td>\n",
              "    </tr>\n",
              "    <tr>\n",
              "      <th>51379</th>\n",
              "      <td>8384</td>\n",
              "      <td>HR</td>\n",
              "      <td>region_20</td>\n",
              "      <td>1</td>\n",
              "      <td>35</td>\n",
              "      <td>3.0</td>\n",
              "      <td>5</td>\n",
              "      <td>0</td>\n",
              "      <td>0</td>\n",
              "      <td>51</td>\n",
              "      <td>0</td>\n",
              "      <td>0</td>\n",
              "      <td>1</td>\n",
              "      <td>1</td>\n",
              "      <td>0</td>\n",
              "      <td>1</td>\n",
              "      <td>0</td>\n",
              "      <td>0</td>\n",
              "    </tr>\n",
              "    <tr>\n",
              "      <th>23322</th>\n",
              "      <td>35781</td>\n",
              "      <td>HR</td>\n",
              "      <td>region_13</td>\n",
              "      <td>1</td>\n",
              "      <td>39</td>\n",
              "      <td>3.0</td>\n",
              "      <td>11</td>\n",
              "      <td>0</td>\n",
              "      <td>0</td>\n",
              "      <td>49</td>\n",
              "      <td>1</td>\n",
              "      <td>0</td>\n",
              "      <td>0</td>\n",
              "      <td>0</td>\n",
              "      <td>1</td>\n",
              "      <td>1</td>\n",
              "      <td>0</td>\n",
              "      <td>0</td>\n",
              "    </tr>\n",
              "  </tbody>\n",
              "</table>\n",
              "</div>\n",
              "      <button class=\"colab-df-convert\" onclick=\"convertToInteractive('df-d10d8c34-9c23-4604-bf9d-f01de2ca3deb')\"\n",
              "              title=\"Convert this dataframe to an interactive table.\"\n",
              "              style=\"display:none;\">\n",
              "        \n",
              "  <svg xmlns=\"http://www.w3.org/2000/svg\" height=\"24px\"viewBox=\"0 0 24 24\"\n",
              "       width=\"24px\">\n",
              "    <path d=\"M0 0h24v24H0V0z\" fill=\"none\"/>\n",
              "    <path d=\"M18.56 5.44l.94 2.06.94-2.06 2.06-.94-2.06-.94-.94-2.06-.94 2.06-2.06.94zm-11 1L8.5 8.5l.94-2.06 2.06-.94-2.06-.94L8.5 2.5l-.94 2.06-2.06.94zm10 10l.94 2.06.94-2.06 2.06-.94-2.06-.94-.94-2.06-.94 2.06-2.06.94z\"/><path d=\"M17.41 7.96l-1.37-1.37c-.4-.4-.92-.59-1.43-.59-.52 0-1.04.2-1.43.59L10.3 9.45l-7.72 7.72c-.78.78-.78 2.05 0 2.83L4 21.41c.39.39.9.59 1.41.59.51 0 1.02-.2 1.41-.59l7.78-7.78 2.81-2.81c.8-.78.8-2.07 0-2.86zM5.41 20L4 18.59l7.72-7.72 1.47 1.35L5.41 20z\"/>\n",
              "  </svg>\n",
              "      </button>\n",
              "      \n",
              "  <style>\n",
              "    .colab-df-container {\n",
              "      display:flex;\n",
              "      flex-wrap:wrap;\n",
              "      gap: 12px;\n",
              "    }\n",
              "\n",
              "    .colab-df-convert {\n",
              "      background-color: #E8F0FE;\n",
              "      border: none;\n",
              "      border-radius: 50%;\n",
              "      cursor: pointer;\n",
              "      display: none;\n",
              "      fill: #1967D2;\n",
              "      height: 32px;\n",
              "      padding: 0 0 0 0;\n",
              "      width: 32px;\n",
              "    }\n",
              "\n",
              "    .colab-df-convert:hover {\n",
              "      background-color: #E2EBFA;\n",
              "      box-shadow: 0px 1px 2px rgba(60, 64, 67, 0.3), 0px 1px 3px 1px rgba(60, 64, 67, 0.15);\n",
              "      fill: #174EA6;\n",
              "    }\n",
              "\n",
              "    [theme=dark] .colab-df-convert {\n",
              "      background-color: #3B4455;\n",
              "      fill: #D2E3FC;\n",
              "    }\n",
              "\n",
              "    [theme=dark] .colab-df-convert:hover {\n",
              "      background-color: #434B5C;\n",
              "      box-shadow: 0px 1px 3px 1px rgba(0, 0, 0, 0.15);\n",
              "      filter: drop-shadow(0px 1px 2px rgba(0, 0, 0, 0.3));\n",
              "      fill: #FFFFFF;\n",
              "    }\n",
              "  </style>\n",
              "\n",
              "      <script>\n",
              "        const buttonEl =\n",
              "          document.querySelector('#df-d10d8c34-9c23-4604-bf9d-f01de2ca3deb button.colab-df-convert');\n",
              "        buttonEl.style.display =\n",
              "          google.colab.kernel.accessAllowed ? 'block' : 'none';\n",
              "\n",
              "        async function convertToInteractive(key) {\n",
              "          const element = document.querySelector('#df-d10d8c34-9c23-4604-bf9d-f01de2ca3deb');\n",
              "          const dataTable =\n",
              "            await google.colab.kernel.invokeFunction('convertToInteractive',\n",
              "                                                     [key], {});\n",
              "          if (!dataTable) return;\n",
              "\n",
              "          const docLinkHtml = 'Like what you see? Visit the ' +\n",
              "            '<a target=\"_blank\" href=https://colab.research.google.com/notebooks/data_table.ipynb>data table notebook</a>'\n",
              "            + ' to learn more about interactive tables.';\n",
              "          element.innerHTML = '';\n",
              "          dataTable['output_type'] = 'display_data';\n",
              "          await google.colab.output.renderOutput(dataTable, element);\n",
              "          const docLink = document.createElement('div');\n",
              "          docLink.innerHTML = docLinkHtml;\n",
              "          element.appendChild(docLink);\n",
              "        }\n",
              "      </script>\n",
              "    </div>\n",
              "  </div>\n",
              "  "
            ]
          },
          "metadata": {},
          "execution_count": 51
        }
      ]
    },
    {
      "cell_type": "code",
      "source": [
        "# Dropping employee_id column\n",
        "\n",
        "x_train.drop('employee_id',axis=1,inplace=True)\n",
        "x_val1.drop('employee_id',axis=1,inplace=True)\n",
        "x_val2.drop('employee_id',axis=1,inplace=True)\n",
        "x_test.drop('employee_id',axis=1,inplace=True)\n"
      ],
      "metadata": {
        "execution": {
          "iopub.status.busy": "2023-04-23T16:01:19.632495Z",
          "iopub.execute_input": "2023-04-23T16:01:19.632808Z",
          "iopub.status.idle": "2023-04-23T16:01:19.648832Z",
          "shell.execute_reply.started": "2023-04-23T16:01:19.632778Z",
          "shell.execute_reply": "2023-04-23T16:01:19.647623Z"
        },
        "trusted": true,
        "id": "NkRXKh-Z9HzS"
      },
      "execution_count": null,
      "outputs": []
    },
    {
      "cell_type": "code",
      "source": [
        "print(\"train:\",x_train.shape)\n",
        "print(\"val1:\",x_val1.shape)\n",
        "print(\"val2:\",x_val2.shape)"
      ],
      "metadata": {
        "execution": {
          "iopub.status.busy": "2023-04-23T16:01:19.684099Z",
          "iopub.execute_input": "2023-04-23T16:01:19.684457Z",
          "iopub.status.idle": "2023-04-23T16:01:19.695972Z",
          "shell.execute_reply.started": "2023-04-23T16:01:19.684423Z",
          "shell.execute_reply": "2023-04-23T16:01:19.695017Z"
        },
        "trusted": true,
        "id": "X-hfvSAy9HzU",
        "outputId": "41162709-0205-43a6-8ee2-c9de3ce05819",
        "colab": {
          "base_uri": "https://localhost:8080/"
        }
      },
      "execution_count": null,
      "outputs": [
        {
          "output_type": "stream",
          "name": "stdout",
          "text": [
            "train: (36679, 17)\n",
            "val1: (7860, 17)\n",
            "val2: (7860, 17)\n"
          ]
        }
      ]
    },
    {
      "cell_type": "markdown",
      "source": [
        "# <center> ----- FEATURE SELECTION ----- </center>"
      ],
      "metadata": {
        "id": "i69mpafM9HzU"
      }
    },
    {
      "cell_type": "markdown",
      "source": [
        "### Tree Based FS"
      ],
      "metadata": {
        "id": "hrxC5NFD9HzU"
      }
    },
    {
      "cell_type": "code",
      "source": [
        "def tree_based_feature_importance(x_train,y_train):\n",
        "    from sklearn.ensemble import RandomForestClassifier\n",
        "    # create the random forest model\n",
        "    model = RandomForestClassifier()\n",
        "\n",
        "    # fit the model to start training.\n",
        "    model.fit(x_train, y_train)\n",
        "\n",
        "    # get the importance of the resulting features.\n",
        "    importances = model.feature_importances_\n",
        "\n",
        "    # create a data frame for visualization.\n",
        "    final_df = pd.DataFrame({\"Features\": x_train.columns, \"Importances\":importances})\n",
        "    final_df.set_index('Importances')\n",
        "\n",
        "    # sort in descending order \n",
        "    final_df = final_df.sort_values('Importances',ascending=False)\n",
        "    \n",
        "    #visualising feature importance\n",
        "    pd.Series(model.feature_importances_, index=x_train.columns).nlargest(6).plot(kind='barh')  \n",
        "    return final_df"
      ],
      "metadata": {
        "execution": {
          "iopub.status.busy": "2023-04-23T16:01:19.749822Z",
          "iopub.execute_input": "2023-04-23T16:01:19.751591Z",
          "iopub.status.idle": "2023-04-23T16:01:19.761661Z",
          "shell.execute_reply.started": "2023-04-23T16:01:19.751540Z",
          "shell.execute_reply": "2023-04-23T16:01:19.760488Z"
        },
        "trusted": true,
        "id": "1if6DSUX9HzU"
      },
      "execution_count": null,
      "outputs": []
    },
    {
      "cell_type": "code",
      "source": [
        "feature_importance=tree_based_feature_importance(x_train,y_train)"
      ],
      "metadata": {
        "execution": {
          "iopub.status.busy": "2023-04-23T16:01:19.763054Z",
          "iopub.execute_input": "2023-04-23T16:01:19.763691Z",
          "iopub.status.idle": "2023-04-23T16:01:24.688696Z",
          "shell.execute_reply.started": "2023-04-23T16:01:19.763641Z",
          "shell.execute_reply": "2023-04-23T16:01:24.687411Z"
        },
        "trusted": true,
        "id": "iW52wLVU9HzU",
        "outputId": "7944125c-9899-40b7-c39d-d5198731ec3a",
        "colab": {
          "base_uri": "https://localhost:8080/",
          "height": 311
        }
      },
      "execution_count": null,
      "outputs": [
        {
          "output_type": "error",
          "ename": "ValueError",
          "evalue": "ignored",
          "traceback": [
            "\u001b[0;31m---------------------------------------------------------------------------\u001b[0m",
            "\u001b[0;31mValueError\u001b[0m                                Traceback (most recent call last)",
            "\u001b[0;32m<ipython-input-55-c289762b0e0b>\u001b[0m in \u001b[0;36m<cell line: 1>\u001b[0;34m()\u001b[0m\n\u001b[0;32m----> 1\u001b[0;31m \u001b[0mfeature_importance\u001b[0m\u001b[0;34m=\u001b[0m\u001b[0mtree_based_feature_importance\u001b[0m\u001b[0;34m(\u001b[0m\u001b[0mx_train\u001b[0m\u001b[0;34m,\u001b[0m\u001b[0my_train\u001b[0m\u001b[0;34m)\u001b[0m\u001b[0;34m\u001b[0m\u001b[0;34m\u001b[0m\u001b[0m\n\u001b[0m",
            "\u001b[0;32m<ipython-input-54-7b205ac793a0>\u001b[0m in \u001b[0;36mtree_based_feature_importance\u001b[0;34m(x_train, y_train)\u001b[0m\n\u001b[1;32m      5\u001b[0m \u001b[0;34m\u001b[0m\u001b[0m\n\u001b[1;32m      6\u001b[0m     \u001b[0;31m# fit the model to start training.\u001b[0m\u001b[0;34m\u001b[0m\u001b[0;34m\u001b[0m\u001b[0m\n\u001b[0;32m----> 7\u001b[0;31m     \u001b[0mmodel\u001b[0m\u001b[0;34m.\u001b[0m\u001b[0mfit\u001b[0m\u001b[0;34m(\u001b[0m\u001b[0mx_train\u001b[0m\u001b[0;34m,\u001b[0m \u001b[0my_train\u001b[0m\u001b[0;34m)\u001b[0m\u001b[0;34m\u001b[0m\u001b[0;34m\u001b[0m\u001b[0m\n\u001b[0m\u001b[1;32m      8\u001b[0m \u001b[0;34m\u001b[0m\u001b[0m\n\u001b[1;32m      9\u001b[0m     \u001b[0;31m# get the importance of the resulting features.\u001b[0m\u001b[0;34m\u001b[0m\u001b[0;34m\u001b[0m\u001b[0m\n",
            "\u001b[0;32m/usr/local/lib/python3.10/dist-packages/sklearn/ensemble/_forest.py\u001b[0m in \u001b[0;36mfit\u001b[0;34m(self, X, y, sample_weight)\u001b[0m\n\u001b[1;32m    343\u001b[0m         \u001b[0;32mif\u001b[0m \u001b[0missparse\u001b[0m\u001b[0;34m(\u001b[0m\u001b[0my\u001b[0m\u001b[0;34m)\u001b[0m\u001b[0;34m:\u001b[0m\u001b[0;34m\u001b[0m\u001b[0;34m\u001b[0m\u001b[0m\n\u001b[1;32m    344\u001b[0m             \u001b[0;32mraise\u001b[0m \u001b[0mValueError\u001b[0m\u001b[0;34m(\u001b[0m\u001b[0;34m\"sparse multilabel-indicator for y is not supported.\"\u001b[0m\u001b[0;34m)\u001b[0m\u001b[0;34m\u001b[0m\u001b[0;34m\u001b[0m\u001b[0m\n\u001b[0;32m--> 345\u001b[0;31m         X, y = self._validate_data(\n\u001b[0m\u001b[1;32m    346\u001b[0m             \u001b[0mX\u001b[0m\u001b[0;34m,\u001b[0m \u001b[0my\u001b[0m\u001b[0;34m,\u001b[0m \u001b[0mmulti_output\u001b[0m\u001b[0;34m=\u001b[0m\u001b[0;32mTrue\u001b[0m\u001b[0;34m,\u001b[0m \u001b[0maccept_sparse\u001b[0m\u001b[0;34m=\u001b[0m\u001b[0;34m\"csc\"\u001b[0m\u001b[0;34m,\u001b[0m \u001b[0mdtype\u001b[0m\u001b[0;34m=\u001b[0m\u001b[0mDTYPE\u001b[0m\u001b[0;34m\u001b[0m\u001b[0;34m\u001b[0m\u001b[0m\n\u001b[1;32m    347\u001b[0m         )\n",
            "\u001b[0;32m/usr/local/lib/python3.10/dist-packages/sklearn/base.py\u001b[0m in \u001b[0;36m_validate_data\u001b[0;34m(self, X, y, reset, validate_separately, **check_params)\u001b[0m\n\u001b[1;32m    582\u001b[0m                 \u001b[0my\u001b[0m \u001b[0;34m=\u001b[0m \u001b[0mcheck_array\u001b[0m\u001b[0;34m(\u001b[0m\u001b[0my\u001b[0m\u001b[0;34m,\u001b[0m \u001b[0minput_name\u001b[0m\u001b[0;34m=\u001b[0m\u001b[0;34m\"y\"\u001b[0m\u001b[0;34m,\u001b[0m \u001b[0;34m**\u001b[0m\u001b[0mcheck_y_params\u001b[0m\u001b[0;34m)\u001b[0m\u001b[0;34m\u001b[0m\u001b[0;34m\u001b[0m\u001b[0m\n\u001b[1;32m    583\u001b[0m             \u001b[0;32melse\u001b[0m\u001b[0;34m:\u001b[0m\u001b[0;34m\u001b[0m\u001b[0;34m\u001b[0m\u001b[0m\n\u001b[0;32m--> 584\u001b[0;31m                 \u001b[0mX\u001b[0m\u001b[0;34m,\u001b[0m \u001b[0my\u001b[0m \u001b[0;34m=\u001b[0m \u001b[0mcheck_X_y\u001b[0m\u001b[0;34m(\u001b[0m\u001b[0mX\u001b[0m\u001b[0;34m,\u001b[0m \u001b[0my\u001b[0m\u001b[0;34m,\u001b[0m \u001b[0;34m**\u001b[0m\u001b[0mcheck_params\u001b[0m\u001b[0;34m)\u001b[0m\u001b[0;34m\u001b[0m\u001b[0;34m\u001b[0m\u001b[0m\n\u001b[0m\u001b[1;32m    585\u001b[0m             \u001b[0mout\u001b[0m \u001b[0;34m=\u001b[0m \u001b[0mX\u001b[0m\u001b[0;34m,\u001b[0m \u001b[0my\u001b[0m\u001b[0;34m\u001b[0m\u001b[0;34m\u001b[0m\u001b[0m\n\u001b[1;32m    586\u001b[0m \u001b[0;34m\u001b[0m\u001b[0m\n",
            "\u001b[0;32m/usr/local/lib/python3.10/dist-packages/sklearn/utils/validation.py\u001b[0m in \u001b[0;36mcheck_X_y\u001b[0;34m(X, y, accept_sparse, accept_large_sparse, dtype, order, copy, force_all_finite, ensure_2d, allow_nd, multi_output, ensure_min_samples, ensure_min_features, y_numeric, estimator)\u001b[0m\n\u001b[1;32m   1104\u001b[0m         )\n\u001b[1;32m   1105\u001b[0m \u001b[0;34m\u001b[0m\u001b[0m\n\u001b[0;32m-> 1106\u001b[0;31m     X = check_array(\n\u001b[0m\u001b[1;32m   1107\u001b[0m         \u001b[0mX\u001b[0m\u001b[0;34m,\u001b[0m\u001b[0;34m\u001b[0m\u001b[0;34m\u001b[0m\u001b[0m\n\u001b[1;32m   1108\u001b[0m         \u001b[0maccept_sparse\u001b[0m\u001b[0;34m=\u001b[0m\u001b[0maccept_sparse\u001b[0m\u001b[0;34m,\u001b[0m\u001b[0;34m\u001b[0m\u001b[0;34m\u001b[0m\u001b[0m\n",
            "\u001b[0;32m/usr/local/lib/python3.10/dist-packages/sklearn/utils/validation.py\u001b[0m in \u001b[0;36mcheck_array\u001b[0;34m(array, accept_sparse, accept_large_sparse, dtype, order, copy, force_all_finite, ensure_2d, allow_nd, ensure_min_samples, ensure_min_features, estimator, input_name)\u001b[0m\n\u001b[1;32m    877\u001b[0m                     \u001b[0marray\u001b[0m \u001b[0;34m=\u001b[0m \u001b[0mxp\u001b[0m\u001b[0;34m.\u001b[0m\u001b[0mastype\u001b[0m\u001b[0;34m(\u001b[0m\u001b[0marray\u001b[0m\u001b[0;34m,\u001b[0m \u001b[0mdtype\u001b[0m\u001b[0;34m,\u001b[0m \u001b[0mcopy\u001b[0m\u001b[0;34m=\u001b[0m\u001b[0;32mFalse\u001b[0m\u001b[0;34m)\u001b[0m\u001b[0;34m\u001b[0m\u001b[0;34m\u001b[0m\u001b[0m\n\u001b[1;32m    878\u001b[0m                 \u001b[0;32melse\u001b[0m\u001b[0;34m:\u001b[0m\u001b[0;34m\u001b[0m\u001b[0;34m\u001b[0m\u001b[0m\n\u001b[0;32m--> 879\u001b[0;31m                     \u001b[0marray\u001b[0m \u001b[0;34m=\u001b[0m \u001b[0m_asarray_with_order\u001b[0m\u001b[0;34m(\u001b[0m\u001b[0marray\u001b[0m\u001b[0;34m,\u001b[0m \u001b[0morder\u001b[0m\u001b[0;34m=\u001b[0m\u001b[0morder\u001b[0m\u001b[0;34m,\u001b[0m \u001b[0mdtype\u001b[0m\u001b[0;34m=\u001b[0m\u001b[0mdtype\u001b[0m\u001b[0;34m,\u001b[0m \u001b[0mxp\u001b[0m\u001b[0;34m=\u001b[0m\u001b[0mxp\u001b[0m\u001b[0;34m)\u001b[0m\u001b[0;34m\u001b[0m\u001b[0;34m\u001b[0m\u001b[0m\n\u001b[0m\u001b[1;32m    880\u001b[0m             \u001b[0;32mexcept\u001b[0m \u001b[0mComplexWarning\u001b[0m \u001b[0;32mas\u001b[0m \u001b[0mcomplex_warning\u001b[0m\u001b[0;34m:\u001b[0m\u001b[0;34m\u001b[0m\u001b[0;34m\u001b[0m\u001b[0m\n\u001b[1;32m    881\u001b[0m                 raise ValueError(\n",
            "\u001b[0;32m/usr/local/lib/python3.10/dist-packages/sklearn/utils/_array_api.py\u001b[0m in \u001b[0;36m_asarray_with_order\u001b[0;34m(array, dtype, order, copy, xp)\u001b[0m\n\u001b[1;32m    183\u001b[0m     \u001b[0;32mif\u001b[0m \u001b[0mxp\u001b[0m\u001b[0;34m.\u001b[0m\u001b[0m__name__\u001b[0m \u001b[0;32min\u001b[0m \u001b[0;34m{\u001b[0m\u001b[0;34m\"numpy\"\u001b[0m\u001b[0;34m,\u001b[0m \u001b[0;34m\"numpy.array_api\"\u001b[0m\u001b[0;34m}\u001b[0m\u001b[0;34m:\u001b[0m\u001b[0;34m\u001b[0m\u001b[0;34m\u001b[0m\u001b[0m\n\u001b[1;32m    184\u001b[0m         \u001b[0;31m# Use NumPy API to support order\u001b[0m\u001b[0;34m\u001b[0m\u001b[0;34m\u001b[0m\u001b[0m\n\u001b[0;32m--> 185\u001b[0;31m         \u001b[0marray\u001b[0m \u001b[0;34m=\u001b[0m \u001b[0mnumpy\u001b[0m\u001b[0;34m.\u001b[0m\u001b[0masarray\u001b[0m\u001b[0;34m(\u001b[0m\u001b[0marray\u001b[0m\u001b[0;34m,\u001b[0m \u001b[0morder\u001b[0m\u001b[0;34m=\u001b[0m\u001b[0morder\u001b[0m\u001b[0;34m,\u001b[0m \u001b[0mdtype\u001b[0m\u001b[0;34m=\u001b[0m\u001b[0mdtype\u001b[0m\u001b[0;34m)\u001b[0m\u001b[0;34m\u001b[0m\u001b[0;34m\u001b[0m\u001b[0m\n\u001b[0m\u001b[1;32m    186\u001b[0m         \u001b[0;32mreturn\u001b[0m \u001b[0mxp\u001b[0m\u001b[0;34m.\u001b[0m\u001b[0masarray\u001b[0m\u001b[0;34m(\u001b[0m\u001b[0marray\u001b[0m\u001b[0;34m,\u001b[0m \u001b[0mcopy\u001b[0m\u001b[0;34m=\u001b[0m\u001b[0mcopy\u001b[0m\u001b[0;34m)\u001b[0m\u001b[0;34m\u001b[0m\u001b[0;34m\u001b[0m\u001b[0m\n\u001b[1;32m    187\u001b[0m     \u001b[0;32melse\u001b[0m\u001b[0;34m:\u001b[0m\u001b[0;34m\u001b[0m\u001b[0;34m\u001b[0m\u001b[0m\n",
            "\u001b[0;32m/usr/local/lib/python3.10/dist-packages/pandas/core/generic.py\u001b[0m in \u001b[0;36m__array__\u001b[0;34m(self, dtype)\u001b[0m\n\u001b[1;32m   2068\u001b[0m \u001b[0;34m\u001b[0m\u001b[0m\n\u001b[1;32m   2069\u001b[0m     \u001b[0;32mdef\u001b[0m \u001b[0m__array__\u001b[0m\u001b[0;34m(\u001b[0m\u001b[0mself\u001b[0m\u001b[0;34m,\u001b[0m \u001b[0mdtype\u001b[0m\u001b[0;34m:\u001b[0m \u001b[0mnpt\u001b[0m\u001b[0;34m.\u001b[0m\u001b[0mDTypeLike\u001b[0m \u001b[0;34m|\u001b[0m \u001b[0;32mNone\u001b[0m \u001b[0;34m=\u001b[0m \u001b[0;32mNone\u001b[0m\u001b[0;34m)\u001b[0m \u001b[0;34m->\u001b[0m \u001b[0mnp\u001b[0m\u001b[0;34m.\u001b[0m\u001b[0mndarray\u001b[0m\u001b[0;34m:\u001b[0m\u001b[0;34m\u001b[0m\u001b[0;34m\u001b[0m\u001b[0m\n\u001b[0;32m-> 2070\u001b[0;31m         \u001b[0;32mreturn\u001b[0m \u001b[0mnp\u001b[0m\u001b[0;34m.\u001b[0m\u001b[0masarray\u001b[0m\u001b[0;34m(\u001b[0m\u001b[0mself\u001b[0m\u001b[0;34m.\u001b[0m\u001b[0m_values\u001b[0m\u001b[0;34m,\u001b[0m \u001b[0mdtype\u001b[0m\u001b[0;34m=\u001b[0m\u001b[0mdtype\u001b[0m\u001b[0;34m)\u001b[0m\u001b[0;34m\u001b[0m\u001b[0;34m\u001b[0m\u001b[0m\n\u001b[0m\u001b[1;32m   2071\u001b[0m \u001b[0;34m\u001b[0m\u001b[0m\n\u001b[1;32m   2072\u001b[0m     def __array_wrap__(\n",
            "\u001b[0;31mValueError\u001b[0m: could not convert string to float: 'Analytics'"
          ]
        }
      ]
    },
    {
      "cell_type": "code",
      "source": [
        "display(feature_importance)"
      ],
      "metadata": {
        "execution": {
          "iopub.status.busy": "2023-04-23T16:01:24.690227Z",
          "iopub.execute_input": "2023-04-23T16:01:24.690675Z",
          "iopub.status.idle": "2023-04-23T16:01:24.703670Z",
          "shell.execute_reply.started": "2023-04-23T16:01:24.690631Z",
          "shell.execute_reply": "2023-04-23T16:01:24.702519Z"
        },
        "trusted": true,
        "id": "8maGMLvJ9HzV"
      },
      "execution_count": null,
      "outputs": []
    },
    {
      "cell_type": "markdown",
      "source": [
        "***Analysing all the above results and filtering out unimportant features***"
      ],
      "metadata": {
        "id": "XhbmMET49HzV"
      }
    },
    {
      "cell_type": "code",
      "source": [
        "# Making a list of selected features\n",
        "selected_features = ['avg_training_score','dept_enc','age',\n",
        "                     'length_of_service','previous_year_rating',\n",
        "                     'KPIs_met >80%','no_of_trainings','awards_won?']\n",
        "x_train[selected_features].head()"
      ],
      "metadata": {
        "scrolled": true,
        "execution": {
          "iopub.status.busy": "2023-04-23T16:01:24.705506Z",
          "iopub.execute_input": "2023-04-23T16:01:24.705977Z",
          "iopub.status.idle": "2023-04-23T16:01:24.728762Z",
          "shell.execute_reply.started": "2023-04-23T16:01:24.705926Z",
          "shell.execute_reply": "2023-04-23T16:01:24.727460Z"
        },
        "trusted": true,
        "id": "JYNl_eUb9HzV"
      },
      "execution_count": null,
      "outputs": []
    },
    {
      "cell_type": "code",
      "source": [
        "#Creating new datasets with just the selected features\n",
        "x_train_new=x_train[selected_features]\n",
        "x_val1_new=x_val1[selected_features]\n",
        "x_val2_new=x_val2[selected_features]\n",
        "x_test_new=x_test[selected_features]\n"
      ],
      "metadata": {
        "execution": {
          "iopub.status.busy": "2023-04-23T16:01:24.730157Z",
          "iopub.execute_input": "2023-04-23T16:01:24.730506Z",
          "iopub.status.idle": "2023-04-23T16:01:24.744825Z",
          "shell.execute_reply.started": "2023-04-23T16:01:24.730473Z",
          "shell.execute_reply": "2023-04-23T16:01:24.743886Z"
        },
        "trusted": true,
        "id": "J686cEwu9HzV"
      },
      "execution_count": null,
      "outputs": []
    },
    {
      "cell_type": "markdown",
      "source": [
        "### Feature Scaling for better processing in models"
      ],
      "metadata": {
        "id": "xWzKeRQ09HzV"
      }
    },
    {
      "cell_type": "code",
      "source": [
        "\n",
        "\n",
        "scaler = MinMaxScaler() # create an instance\n",
        "x_train_scaled = scaler.fit_transform(x_train_new) #  fit  the scaler to the train set and then transform it\n",
        "x_val1_scaled = scaler.transform(x_val1_new) # transform (scale) the val1 set\n",
        "x_val2_scaled = scaler.transform(x_val2_new) # transform (scale) the val2 set\n",
        "x_test_scaled = scaler.transform(x_test_new) # transform (scale) the test set\n",
        "\n",
        "\n",
        "x_train_scaled[:5]\n"
      ],
      "metadata": {
        "execution": {
          "iopub.status.busy": "2023-04-23T16:01:24.746563Z",
          "iopub.execute_input": "2023-04-23T16:01:24.747025Z",
          "iopub.status.idle": "2023-04-23T16:01:24.774507Z",
          "shell.execute_reply.started": "2023-04-23T16:01:24.746956Z",
          "shell.execute_reply": "2023-04-23T16:01:24.773500Z"
        },
        "trusted": true,
        "id": "T7NHRFch9HzV"
      },
      "execution_count": null,
      "outputs": []
    },
    {
      "cell_type": "markdown",
      "source": [
        "# <center> ----- MODEL TRAINING ----- </center>"
      ],
      "metadata": {
        "id": "kky_k7po9HzW"
      }
    },
    {
      "cell_type": "markdown",
      "source": [
        "## 1. Logistic Regression Classifier\n"
      ],
      "metadata": {
        "id": "rYOgh2hi9HzW"
      }
    },
    {
      "cell_type": "code",
      "source": [
        "# Fitting Logistic Regression to the Training Set\n",
        "classifier = LogisticRegression()\n",
        "classifier.fit(x_train_scaled, y_train)\n",
        "# Predicting the Train Set Results\n",
        "y_pred = classifier.predict(x_train_scaled)\n",
        "# Classification Report\n",
        "reptrain=classification_report(y_train, y_pred, output_dict=True)\n",
        "reptrain = pd.DataFrame(reptrain).transpose()"
      ],
      "metadata": {
        "execution": {
          "iopub.status.busy": "2023-04-23T16:01:24.776220Z",
          "iopub.execute_input": "2023-04-23T16:01:24.776688Z",
          "iopub.status.idle": "2023-04-23T16:01:25.426062Z",
          "shell.execute_reply.started": "2023-04-23T16:01:24.776643Z",
          "shell.execute_reply": "2023-04-23T16:01:25.424740Z"
        },
        "trusted": true,
        "id": "DfT5rvY_9HzW"
      },
      "execution_count": null,
      "outputs": []
    },
    {
      "cell_type": "code",
      "source": [
        "# Predicting the Val1 Set Results\n",
        "y_pred = classifier.predict(x_val1_scaled)\n",
        "# Classification Report\n",
        "repval1=classification_report(y_val1, y_pred, output_dict=True)\n",
        "repval1 = pd.DataFrame(repval1).transpose()\n",
        "\n",
        "# Predicting the Val2 Set Results\n",
        "y_pred = classifier.predict(x_val2_scaled)\n",
        "# Classification Report\n",
        "repval2=classification_report(y_val2, y_pred, output_dict=True)\n",
        "repval2 = pd.DataFrame(repval2).transpose()\n",
        "\n",
        "res = pd.concat([reptrain[:3],repval1[:3], repval2[:3]], keys=['LGR - Train','LGR - Val1','LGR - Val2']).round(2)\n",
        "res"
      ],
      "metadata": {
        "execution": {
          "iopub.status.busy": "2023-04-23T16:01:25.433277Z",
          "iopub.execute_input": "2023-04-23T16:01:25.433703Z",
          "iopub.status.idle": "2023-04-23T16:01:25.550973Z",
          "shell.execute_reply.started": "2023-04-23T16:01:25.433667Z",
          "shell.execute_reply": "2023-04-23T16:01:25.549569Z"
        },
        "trusted": true,
        "id": "jsx2ObWU9HzW"
      },
      "execution_count": null,
      "outputs": []
    },
    {
      "cell_type": "markdown",
      "source": [
        "***Evaluation Report for Logistic Regression Classifier***"
      ],
      "metadata": {
        "id": "npO8N46q9HzW"
      }
    },
    {
      "cell_type": "markdown",
      "source": [
        "## 2. Decision Tree Classifier"
      ],
      "metadata": {
        "id": "VEW_hsCp9HzW"
      }
    },
    {
      "cell_type": "code",
      "source": [
        "# Fitting Decision Tree Classifier to the Training Set\n",
        "classifier = DecisionTreeClassifier()\n",
        "classifier.fit(x_train_scaled, y_train)\n",
        "# Predicting the Train Set Results\n",
        "y_pred = classifier.predict(x_train_scaled)\n",
        "# Classification Report\n",
        "reptrain=classification_report(y_train, y_pred, output_dict=True)\n",
        "reptrain = pd.DataFrame(reptrain).transpose()"
      ],
      "metadata": {
        "execution": {
          "iopub.status.busy": "2023-04-23T16:01:25.554567Z",
          "iopub.execute_input": "2023-04-23T16:01:25.555439Z",
          "iopub.status.idle": "2023-04-23T16:01:25.757819Z",
          "shell.execute_reply.started": "2023-04-23T16:01:25.555361Z",
          "shell.execute_reply": "2023-04-23T16:01:25.757025Z"
        },
        "trusted": true,
        "id": "Mq2aGbly9HzW"
      },
      "execution_count": null,
      "outputs": []
    },
    {
      "cell_type": "code",
      "source": [
        "# Predicting the Val1 Set Results\n",
        "y_pred = classifier.predict(x_val1_scaled)\n",
        "# Classification Report\n",
        "repval1=classification_report(y_val1, y_pred, output_dict=True)\n",
        "repval1 = pd.DataFrame(repval1).transpose()\n",
        "\n",
        "# Predicting the Val2 Set Results\n",
        "y_pred = classifier.predict(x_val2_scaled)\n",
        "# Classification Report\n",
        "repval2=classification_report(y_val2, y_pred, output_dict=True)\n",
        "repval2 = pd.DataFrame(repval2).transpose()\n",
        "\n",
        "res = pd.concat([reptrain[:3],repval1[:3], repval2[:3]], keys=['DT - Train','DT - Val1','DT - Val2']).round(2)\n",
        "res"
      ],
      "metadata": {
        "execution": {
          "iopub.status.busy": "2023-04-23T16:01:25.758915Z",
          "iopub.execute_input": "2023-04-23T16:01:25.759339Z",
          "iopub.status.idle": "2023-04-23T16:01:25.816435Z",
          "shell.execute_reply.started": "2023-04-23T16:01:25.759309Z",
          "shell.execute_reply": "2023-04-23T16:01:25.815361Z"
        },
        "trusted": true,
        "id": "CbBAhhLh9HzX"
      },
      "execution_count": null,
      "outputs": []
    },
    {
      "cell_type": "markdown",
      "source": [
        "***Evaluation Report for Decision Tree Classifier***"
      ],
      "metadata": {
        "id": "fb6IO6xi9HzX"
      }
    },
    {
      "cell_type": "markdown",
      "source": [
        "## 3. Random Forest Classifier"
      ],
      "metadata": {
        "id": "xoua00JW9HzX"
      }
    },
    {
      "cell_type": "code",
      "source": [
        "# Fitting Random Forest Classifier to the Training Set\n",
        "classifier = RandomForestClassifier()\n",
        "classifier.fit(x_train_scaled, y_train)\n",
        "# Predicting the Train Set Results\n",
        "y_pred = classifier.predict(x_train_scaled)\n",
        "# Classification Report\n",
        "reptrain=classification_report(y_train, y_pred, output_dict=True)\n",
        "reptrain = pd.DataFrame(reptrain).transpose()"
      ],
      "metadata": {
        "execution": {
          "iopub.status.busy": "2023-04-23T16:01:25.817880Z",
          "iopub.execute_input": "2023-04-23T16:01:25.818478Z",
          "iopub.status.idle": "2023-04-23T16:01:29.941707Z",
          "shell.execute_reply.started": "2023-04-23T16:01:25.818434Z",
          "shell.execute_reply": "2023-04-23T16:01:29.940816Z"
        },
        "trusted": true,
        "id": "J_jM_nq39HzX"
      },
      "execution_count": null,
      "outputs": []
    },
    {
      "cell_type": "code",
      "source": [
        "# Predicting the Val1 Set Results\n",
        "y_pred = classifier.predict(x_val1_scaled)\n",
        "# Classification Report\n",
        "repval1=classification_report(y_val1, y_pred, output_dict=True)\n",
        "repval1 = pd.DataFrame(repval1).transpose()\n",
        "\n",
        "# Predicting the Val2 Set Results\n",
        "y_pred = classifier.predict(x_val2_scaled)\n",
        "# Classification Report\n",
        "repval2=classification_report(y_val2, y_pred, output_dict=True)\n",
        "repval2 = pd.DataFrame(repval2).transpose()\n",
        "\n",
        "res = pd.concat([reptrain[:3],repval1[:3], repval2[:3]], keys=['RF - Train','RF - Val1','RF - Val2']).round(2)\n",
        "res"
      ],
      "metadata": {
        "execution": {
          "iopub.status.busy": "2023-04-23T16:01:29.942948Z",
          "iopub.execute_input": "2023-04-23T16:01:29.943579Z",
          "iopub.status.idle": "2023-04-23T16:01:30.325030Z",
          "shell.execute_reply.started": "2023-04-23T16:01:29.943534Z",
          "shell.execute_reply": "2023-04-23T16:01:30.323958Z"
        },
        "trusted": true,
        "id": "wE5N0J459HzX"
      },
      "execution_count": null,
      "outputs": []
    },
    {
      "cell_type": "markdown",
      "source": [
        "***Evaluation Report for Random Forest Classifier***"
      ],
      "metadata": {
        "id": "wJAZcO2S9HzY"
      }
    },
    {
      "cell_type": "markdown",
      "source": [
        "## 4. XGBoost Classifier"
      ],
      "metadata": {
        "id": "_bqUj3lg9HzY"
      }
    },
    {
      "cell_type": "code",
      "source": [
        "# Fitting XGBoost to the Training Set\n",
        "classifier = XGBClassifier()\n",
        "classifier.fit(x_train_scaled, y_train)\n",
        "# Predicting the Train Set Results\n",
        "y_pred = classifier.predict(x_train_scaled)\n",
        "# Classification Report\n",
        "reptrain=classification_report(y_train, y_pred, output_dict=True)\n",
        "reptrain = pd.DataFrame(reptrain).transpose()"
      ],
      "metadata": {
        "execution": {
          "iopub.status.busy": "2023-04-23T16:01:30.326430Z",
          "iopub.execute_input": "2023-04-23T16:01:30.327033Z",
          "iopub.status.idle": "2023-04-23T16:01:31.600216Z",
          "shell.execute_reply.started": "2023-04-23T16:01:30.326988Z",
          "shell.execute_reply": "2023-04-23T16:01:31.599241Z"
        },
        "trusted": true,
        "id": "H_tBKG4g9HzY"
      },
      "execution_count": null,
      "outputs": []
    },
    {
      "cell_type": "code",
      "source": [
        "# Predicting the Val1 Set Results\n",
        "y_pred = classifier.predict(x_val1_scaled)\n",
        "# Classification Report\n",
        "repval1=classification_report(y_val1, y_pred, output_dict=True)\n",
        "repval1 = pd.DataFrame(repval1).transpose()\n",
        "\n",
        "# Predicting the Val2 Set Results\n",
        "y_pred = classifier.predict(x_val2_scaled)\n",
        "# Classification Report\n",
        "repval2=classification_report(y_val2, y_pred, output_dict=True)\n",
        "repval2 = pd.DataFrame(repval2).transpose()\n",
        "\n",
        "res = pd.concat([reptrain[:3],repval1[:3], repval2[:3]], keys=['XGB - Train','XGB - Val1','XGB - Val2']).round(2)\n",
        "res"
      ],
      "metadata": {
        "execution": {
          "iopub.status.busy": "2023-04-23T16:01:31.601474Z",
          "iopub.execute_input": "2023-04-23T16:01:31.601769Z",
          "iopub.status.idle": "2023-04-23T16:01:31.687087Z",
          "shell.execute_reply.started": "2023-04-23T16:01:31.601740Z",
          "shell.execute_reply": "2023-04-23T16:01:31.686219Z"
        },
        "trusted": true,
        "id": "8_KfPcHI9HzY"
      },
      "execution_count": null,
      "outputs": []
    },
    {
      "cell_type": "markdown",
      "source": [
        "***Evaluation Report for XGBoost Classifier***"
      ],
      "metadata": {
        "id": "3qMR3auR9HzY"
      }
    },
    {
      "cell_type": "markdown",
      "source": [
        "**We see that out of all models XgBoost has best Performance. So we will use this as final model**"
      ],
      "metadata": {
        "id": "0jsrKAbu9HzY"
      }
    },
    {
      "cell_type": "markdown",
      "source": [
        "\n",
        "# <center> ----- MAKING PREDICTIONS ON TEST SET ----- </center>\n"
      ],
      "metadata": {
        "id": "TY8eOXrH9HzY"
      }
    },
    {
      "cell_type": "code",
      "source": [
        "#We will now make final predictions on XGBoost Classifier model\n",
        "\n",
        "xgb = XGBClassifier(base_score=0.5, booster='gbtree', verbosity=None)\n",
        "\n",
        "xgb.fit(x_train_scaled, y_train)\n",
        "\n",
        "y_test_predicted = xgb.predict(x_test_scaled) #predicting test data\n",
        "y_test_predicted\n"
      ],
      "metadata": {
        "execution": {
          "iopub.status.busy": "2023-04-23T16:01:59.906010Z",
          "iopub.execute_input": "2023-04-23T16:01:59.906601Z",
          "iopub.status.idle": "2023-04-23T16:02:01.584903Z",
          "shell.execute_reply.started": "2023-04-23T16:01:59.906558Z",
          "shell.execute_reply": "2023-04-23T16:02:01.583912Z"
        },
        "trusted": true,
        "id": "f2cgGdYG9HzZ"
      },
      "execution_count": null,
      "outputs": []
    },
    {
      "cell_type": "code",
      "source": [
        "promotions_pred= pd.Series(y_test_predicted)\n",
        "promotions_pred.shape"
      ],
      "metadata": {
        "execution": {
          "iopub.status.busy": "2023-04-23T16:02:01.586072Z",
          "iopub.execute_input": "2023-04-23T16:02:01.586368Z",
          "iopub.status.idle": "2023-04-23T16:02:01.593396Z",
          "shell.execute_reply.started": "2023-04-23T16:02:01.586341Z",
          "shell.execute_reply": "2023-04-23T16:02:01.592201Z"
        },
        "trusted": true,
        "id": "Jynpc8Ah9HzZ"
      },
      "execution_count": null,
      "outputs": []
    },
    {
      "cell_type": "code",
      "source": [
        "promotions_pred.value_counts().to_frame()"
      ],
      "metadata": {
        "execution": {
          "iopub.status.busy": "2023-04-23T16:02:01.594959Z",
          "iopub.execute_input": "2023-04-23T16:02:01.595251Z",
          "iopub.status.idle": "2023-04-23T16:02:01.611547Z",
          "shell.execute_reply.started": "2023-04-23T16:02:01.595222Z",
          "shell.execute_reply": "2023-04-23T16:02:01.610327Z"
        },
        "trusted": true,
        "id": "3DMrjt7J9HzZ"
      },
      "execution_count": null,
      "outputs": []
    },
    {
      "cell_type": "markdown",
      "source": [
        "**The model has predicted that out of 22456 employees in the test set, 21749 will not get promotions and 707 employees will be promoted**"
      ],
      "metadata": {
        "id": "-mk4VYa49HzZ"
      }
    },
    {
      "cell_type": "code",
      "source": [
        "id=pd.Series(test.employee_id).reset_index().drop('index',axis=1)"
      ],
      "metadata": {
        "execution": {
          "iopub.status.busy": "2023-04-23T16:02:01.613069Z",
          "iopub.execute_input": "2023-04-23T16:02:01.613455Z",
          "iopub.status.idle": "2023-04-23T16:02:01.624687Z",
          "shell.execute_reply.started": "2023-04-23T16:02:01.613414Z",
          "shell.execute_reply": "2023-04-23T16:02:01.623577Z"
        },
        "trusted": true,
        "id": "BdsA7jZO9HzZ"
      },
      "execution_count": null,
      "outputs": []
    },
    {
      "cell_type": "code",
      "source": [
        "# Mapping employee ids of test set with their promotion status for a better understanding\n",
        "\n",
        "result=pd.concat([id,promotions_pred],axis=1,ignore_index=True)"
      ],
      "metadata": {
        "execution": {
          "iopub.status.busy": "2023-04-23T16:02:01.627409Z",
          "iopub.execute_input": "2023-04-23T16:02:01.627803Z",
          "iopub.status.idle": "2023-04-23T16:02:01.634324Z",
          "shell.execute_reply.started": "2023-04-23T16:02:01.627746Z",
          "shell.execute_reply": "2023-04-23T16:02:01.633424Z"
        },
        "trusted": true,
        "id": "oIFpcU289Hza"
      },
      "execution_count": null,
      "outputs": []
    },
    {
      "cell_type": "code",
      "source": [
        "#final answer on test set\n",
        "result.columns=['employee_id','is_promoted']\n",
        "result"
      ],
      "metadata": {
        "execution": {
          "iopub.status.busy": "2023-04-23T16:02:01.635642Z",
          "iopub.execute_input": "2023-04-23T16:02:01.636134Z",
          "iopub.status.idle": "2023-04-23T16:02:01.656507Z",
          "shell.execute_reply.started": "2023-04-23T16:02:01.636091Z",
          "shell.execute_reply": "2023-04-23T16:02:01.655462Z"
        },
        "trusted": true,
        "id": "YOE38EB29Hza"
      },
      "execution_count": null,
      "outputs": []
    }
  ]
}